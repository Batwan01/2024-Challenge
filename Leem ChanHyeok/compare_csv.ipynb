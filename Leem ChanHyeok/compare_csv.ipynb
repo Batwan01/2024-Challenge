{
 "cells": [
  {
   "cell_type": "code",
   "execution_count": 44,
   "metadata": {},
   "outputs": [],
   "source": [
    "import pandas as pd\n",
    "\n",
    "def find_non_matching_ids(file1, file2):\n",
    "    # 두 개의 CSV 파일을 읽어옴\n",
    "    df1 = pd.read_csv(file1)\n",
    "    df2 = pd.read_csv(file2)\n",
    "\n",
    "    # y 값 기준으로 내림차순 정렬\n",
    "    df1_sorted = df1.sort_values(by='y', ascending=False)\n",
    "    df2_sorted = df2.sort_values(by='y', ascending=False)\n",
    "\n",
    "    # file1의 상위 10% 항목 계산\n",
    "    top_10_percent_count = int(len(df1_sorted) * 0.1)\n",
    "    top_10_percent_ids_df1 = set(df1_sorted.head(top_10_percent_count)['ID'])\n",
    "\n",
    "    # file2의 상위 10% ID 추출\n",
    "    top_10_percent_ids_df2 = set(df2_sorted.head(top_10_percent_count)['ID'])\n",
    "\n",
    "    # file1의 상위 10% 중 file2의 상위 10%에 없는 ID 계산\n",
    "    non_matching_ids = top_10_percent_ids_df1 - top_10_percent_ids_df2\n",
    "    num_non_matching = len(non_matching_ids)\n",
    "\n",
    "    # 결과 출력\n",
    "    print(f\"file1의 상위 10% ID 개수: {top_10_percent_count}\")\n",
    "    print(f\"일치하는 ID 개수: {top_10_percent_count-num_non_matching}\")\n",
    "    print(f\"file1의 상위 10% 중 file2에 없는 ID 개수: {num_non_matching}\")\n",
    "    print(f\"file1의 상위 10% 중 file2에 없는 ID: {non_matching_ids}\")\n",
    "\n",
    "    return top_10_percent_count, num_non_matching, list(non_matching_ids)\n"
   ]
  },
  {
   "cell_type": "code",
   "execution_count": 45,
   "metadata": {},
   "outputs": [
    {
     "name": "stdout",
     "output_type": "stream",
     "text": [
      "file1의 상위 10% ID 개수: 498\n",
      "일치하는 ID 개수: 488\n",
      "file1의 상위 10% 중 file2에 없는 ID 개수: 10\n",
      "file1의 상위 10% 중 file2에 없는 ID: {'TEST_4705', 'TEST_3811', 'TEST_0665', 'TEST_4881', 'TEST_2426', 'TEST_1309', 'TEST_4472', 'TEST_1502', 'TEST_0347', 'TEST_0935'}\n"
     ]
    }
   ],
   "source": [
    "file1 = '/Users/imch/workspace/projects/AI_challenge/2024-Challenge/Leem ChanHyeok/MLP5_PReLU.csv' # best 성능 파일 (기준파일)\n",
    "file2 = '/Users/imch/Documents/MLP5_prelu_bestparam2/MLP5_pReLU2_epoch100.csv' # 측정하고자 하는 파일\n",
    "\n",
    "top_10_percent_count, num_non_matching, non_matching_ids = find_non_matching_ids(file1, file2)\n"
   ]
  }
 ],
 "metadata": {
  "kernelspec": {
   "display_name": "leem",
   "language": "python",
   "name": "python3"
  },
  "language_info": {
   "codemirror_mode": {
    "name": "ipython",
    "version": 3
   },
   "file_extension": ".py",
   "mimetype": "text/x-python",
   "name": "python",
   "nbconvert_exporter": "python",
   "pygments_lexer": "ipython3",
   "version": "3.8.18"
  }
 },
 "nbformat": 4,
 "nbformat_minor": 2
}
