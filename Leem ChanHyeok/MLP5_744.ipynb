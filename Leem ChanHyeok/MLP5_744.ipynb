{
  "cells": [
    {
      "cell_type": "code",
      "execution_count": null,
      "metadata": {
        "colab": {
          "base_uri": "https://localhost:8080/"
        },
        "id": "_igwZoXzmrGo",
        "outputId": "e96924b7-6ea3-432b-eb10-02b9aceb76c4"
      },
      "outputs": [
        {
          "name": "stdout",
          "output_type": "stream",
          "text": [
            "Drive already mounted at /content/drive; to attempt to forcibly remount, call drive.mount(\"/content/drive\", force_remount=True).\n"
          ]
        }
      ],
      "source": [
        "import torch\n",
        "import torch.nn as nn\n",
        "import torch.optim as optim\n",
        "import matplotlib.pyplot as plt\n",
        "import json\n",
        "import numpy as np\n",
        "import random\n",
        "import pandas as pd\n",
        "import torch.nn.init as init\n",
        "\n",
        "from sklearn.model_selection import train_test_split\n",
        "from torch.utils.data import DataLoader, TensorDataset\n",
        "from sklearn.model_selection import ParameterGrid\n",
        "from google.colab import drive\n",
        "\n",
        "drive.mount('/content/drive')\n",
        "\n",
        "# 재현 가능성을 위한 시드 고정\n",
        "RANDOM_SEED = 18\n",
        "torch.manual_seed(RANDOM_SEED)\n",
        "torch.cuda.manual_seed(RANDOM_SEED)\n",
        "np.random.seed(RANDOM_SEED)\n",
        "random.seed(RANDOM_SEED)\n",
        "torch.backends.cudnn.deterministic = True\n",
        "torch.backends.cudnn.benchmark = False\n",
        "\n",
        "# Dataloader 시드 고정 (아직 사용 x)\n",
        "\n",
        "generator = torch.Generator()\n",
        "generator.manual_seed(RANDOM_SEED)\n",
        "\n",
        "def worker_init_fn(worker_id):\n",
        "    worker_seed = torch.initial_seed() % 2**32\n",
        "    np.random.seed(worker_seed)\n",
        "    random.seed(worker_seed)\n",
        "\n",
        "# DataLoader(worker_init_fn=worker_init_fn)\n",
        "\n",
        "\n",
        "# 데이터 경로 설정\n",
        "train_csv_path = \"/content/drive/MyDrive/Samsung_AI_challenge/Data/train.csv\"\n",
        "test_csv_path = \"/content/drive/MyDrive/Samsung_AI_challenge/Data/test.csv\"\n",
        "submission_csv_path = '/content/drive/MyDrive/Samsung_AI_challenge/Data/sample_submission.csv'\n",
        "\n",
        "# 기타 경로 설정 : 저장되는 데이터 이름 등 (model, method 에 맞게 설정)\n"
      ]
    },
    {
      "cell_type": "code",
      "execution_count": null,
      "metadata": {
        "id": "BO_A25fqmvsA"
      },
      "outputs": [],
      "source": [
        "class MLP5Hidden(nn.Module):\n",
        "    def __init__(self, input_size=11, hidden_sizes=[64, 64, 64, 64, 64], output_size=1):\n",
        "        super(MLP5Hidden, self).__init__()\n",
        "        self.fc1 = nn.Linear(input_size, hidden_sizes[0])\n",
        "        self.fc2 = nn.Linear(hidden_sizes[0], hidden_sizes[1])\n",
        "        self.fc3 = nn.Linear(hidden_sizes[1], hidden_sizes[2])\n",
        "        self.fc4 = nn.Linear(hidden_sizes[2], hidden_sizes[3])\n",
        "        self.fc5 = nn.Linear(hidden_sizes[3], hidden_sizes[4])\n",
        "        self.fc6 = nn.Linear(hidden_sizes[4], output_size)\n",
        "        self.prelu = nn.PReLU()\n",
        "\n",
        "        self.apply(self._init_weights)\n",
        "\n",
        "    def _init_weights(self, layer):\n",
        "        if isinstance(layer, nn.Linear):\n",
        "            init.xavier_uniform_(layer.weight)\n",
        "            if layer.bias is not None:\n",
        "                init.zeros_(layer.bias)\n",
        "\n",
        "    def forward(self, x):\n",
        "        x = self.prelu(self.fc1(x))\n",
        "        x = self.prelu(self.fc2(x))\n",
        "        x = self.prelu(self.fc3(x))\n",
        "        x = self.prelu(self.fc4(x))\n",
        "        x = self.prelu(self.fc5(x))\n",
        "        x = self.fc6(x)\n",
        "\n",
        "        return x"
      ]
    },
    {
      "cell_type": "code",
      "execution_count": null,
      "metadata": {
        "id": "tZeU5Q_2m1Cl"
      },
      "outputs": [],
      "source": [
        "# 훈련 데이터를 훈련 + 검증 데이터로 나누고 train_dataset, val_dataset 을 반환하는 함수\n",
        "def split_dataloader(train_csv_path, val_ratio=0.2, random_state=RANDOM_SEED):\n",
        "    train_data = pd.read_csv(train_csv_path)\n",
        "\n",
        "    X = torch.tensor(train_data.iloc[:,1:-1].values, dtype=torch.float32)\n",
        "    y = torch.tensor(train_data.iloc[:,-1].values, dtype = torch.float32).view(-1,1)\n",
        "\n",
        "    X_train, X_val, y_train, y_val = train_test_split(X, y, test_size=val_ratio, random_state=random_state)\n",
        "\n",
        "    train_dataset = TensorDataset(X_train, y_train)\n",
        "    val_dataset = TensorDataset(X_val, y_val)\n",
        "\n",
        "    return train_dataset, val_dataset\n",
        "\n",
        "train_dataset, val_dataset = split_dataloader(train_csv_path)"
      ]
    },
    {
      "cell_type": "code",
      "execution_count": null,
      "metadata": {
        "id": "k5BwMZe-ptnQ"
      },
      "outputs": [],
      "source": [
        "def test_dataloader(test_csv_path):\n",
        "    test_data = pd.read_csv(test_csv_path)\n",
        "\n",
        "    X_test = pd.read_csv(test_csv_path).iloc[:,1:].values\n",
        "    X_test = torch.tensor(X_test, dtype = torch.float32)\n",
        "\n",
        "    test_dataset = TensorDataset(X_test)\n",
        "\n",
        "    return test_dataset\n",
        "\n",
        "test_dataset = test_dataloader(test_csv_path)"
      ]
    },
    {
      "cell_type": "code",
      "execution_count": null,
      "metadata": {
        "id": "JK5NKhZUnHUL"
      },
      "outputs": [],
      "source": [
        "params_path = \"/content/MLP5_pReLU_bestparams.json\"\n",
        "best_params = json.load(open(params_path, 'r'))"
      ]
    },
    {
      "cell_type": "code",
      "execution_count": null,
      "metadata": {
        "colab": {
          "base_uri": "https://localhost:8080/"
        },
        "id": "cS7TrTGCxqMv",
        "outputId": "9b029b62-a6ca-4177-b113-a806f9b35112"
      },
      "outputs": [
        {
          "name": "stdout",
          "output_type": "stream",
          "text": [
            "{'batch_size': 32, 'hidden_sizes': [64, 64, 64, 64, 64], 'learning_rate': 0.01}\n"
          ]
        }
      ],
      "source": [
        "print(best_params)"
      ]
    },
    {
      "cell_type": "code",
      "execution_count": null,
      "metadata": {
        "id": "xFAcbQLWm3fC"
      },
      "outputs": [],
      "source": [
        "def train_test(epochs, hidden_sizes, learning_rate, batch_size):\n",
        "\n",
        "    model = MLP5Hidden(hidden_sizes=hidden_sizes).cuda()\n",
        "    criterion = nn.MSELoss().cuda()\n",
        "    optimizer = optim.Adam(model.parameters(), lr=learning_rate)\n",
        "\n",
        "    train_loader = DataLoader(train_dataset, batch_size=batch_size, shuffle=True, worker_init_fn=worker_init_fn)\n",
        "    val_loader = DataLoader(val_dataset, batch_size=batch_size, shuffle=False)\n",
        "    test_loader = DataLoader(test_dataset, batch_size=batch_size, shuffle=False)\n",
        "\n",
        "    train_losses = []\n",
        "    val_losses = []\n",
        "    log = open(\"train_log.txt\", \"w\")\n",
        "    for epoch in range(epochs):\n",
        "        model.train()\n",
        "        train_loss = 0.0\n",
        "        for batch_X, batch_y in train_loader:\n",
        "            batch_X, batch_y = batch_X.cuda(), batch_y.cuda()\n",
        "            outputs = model(batch_X)\n",
        "            loss = criterion(outputs, batch_y)\n",
        "            optimizer.zero_grad()\n",
        "            loss.backward()\n",
        "            optimizer.step()\n",
        "            train_loss += loss.item()\n",
        "\n",
        "        train_loss = train_loss / len(train_loader)\n",
        "        train_losses.append(train_loss)\n",
        "\n",
        "        model.eval()\n",
        "        val_loss = 0.0\n",
        "        with torch.no_grad():\n",
        "            for batch_X, batch_y in val_loader:\n",
        "                batch_X, batch_y = batch_X.cuda(), batch_y.cuda()\n",
        "                outputs = model(batch_X)\n",
        "                loss = criterion(outputs, batch_y)\n",
        "                val_loss += loss.item()\n",
        "\n",
        "        val_loss = val_loss / len(val_loader)\n",
        "        val_losses.append(val_loss)\n",
        "\n",
        "        print(f'Epoch {epoch+1}/100, Train Loss: {train_loss:.4f}, Validation Loss: {val_loss:.4f}')\n",
        "        log.write(f'Epoch {epoch+1}/100, Train Loss: {train_loss:.4f}, Validation Loss: {val_loss:.4f}\\n')\n",
        "\n",
        "    log.close()\n",
        "    model_save_path = f\"MLP5_pReLU_epoch{epochs}.pth\"\n",
        "    torch.save(model.state_dict(), model_save_path)\n",
        "\n",
        "    model.eval()\n",
        "    test_pred = []\n",
        "    with torch.no_grad():\n",
        "        for batch in test_loader:\n",
        "            batch_X = batch[0].cuda()\n",
        "            outputs = model(batch_X)\n",
        "            test_pred.extend(outputs.cpu().numpy())\n",
        "\n",
        "    test_pred = np.array(test_pred)\n",
        "\n",
        "    return test_pred, train_losses, val_losses"
      ]
    },
    {
      "cell_type": "code",
      "execution_count": null,
      "metadata": {
        "colab": {
          "base_uri": "https://localhost:8080/"
        },
        "id": "jREp0v0hofby",
        "outputId": "59da2101-724d-4e30-ef83-039f9347292f"
      },
      "outputs": [
        {
          "name": "stdout",
          "output_type": "stream",
          "text": [
            "Epoch 1/100, Train Loss: 736.4294, Validation Loss: 19.1299\n",
            "Epoch 2/100, Train Loss: 10.8910, Validation Loss: 6.1073\n",
            "Epoch 3/100, Train Loss: 4.3858, Validation Loss: 4.3850\n",
            "Epoch 4/100, Train Loss: 3.7810, Validation Loss: 4.2804\n",
            "Epoch 5/100, Train Loss: 3.5154, Validation Loss: 3.8122\n",
            "Epoch 6/100, Train Loss: 3.2901, Validation Loss: 3.6288\n",
            "Epoch 7/100, Train Loss: 3.1610, Validation Loss: 3.6659\n",
            "Epoch 8/100, Train Loss: 3.1337, Validation Loss: 3.9721\n",
            "Epoch 9/100, Train Loss: 3.0632, Validation Loss: 3.4203\n",
            "Epoch 10/100, Train Loss: 3.0737, Validation Loss: 3.6595\n",
            "Epoch 11/100, Train Loss: 3.1156, Validation Loss: 3.4063\n",
            "Epoch 12/100, Train Loss: 3.0146, Validation Loss: 3.5144\n",
            "Epoch 13/100, Train Loss: 3.0716, Validation Loss: 3.3796\n",
            "Epoch 14/100, Train Loss: 3.1057, Validation Loss: 3.4472\n",
            "Epoch 15/100, Train Loss: 3.1325, Validation Loss: 3.5383\n",
            "Epoch 16/100, Train Loss: 3.0398, Validation Loss: 3.6411\n",
            "Epoch 17/100, Train Loss: 3.0921, Validation Loss: 3.4746\n",
            "Epoch 18/100, Train Loss: 3.0462, Validation Loss: 3.4236\n",
            "Epoch 19/100, Train Loss: 3.0216, Validation Loss: 3.4331\n",
            "Epoch 20/100, Train Loss: 2.9523, Validation Loss: 3.4805\n",
            "Epoch 21/100, Train Loss: 3.0192, Validation Loss: 3.3655\n",
            "Epoch 22/100, Train Loss: 3.0078, Validation Loss: 3.3972\n",
            "Epoch 23/100, Train Loss: 3.0356, Validation Loss: 3.3266\n",
            "Epoch 24/100, Train Loss: 2.9434, Validation Loss: 3.3471\n",
            "Epoch 25/100, Train Loss: 2.9888, Validation Loss: 3.5067\n",
            "Epoch 26/100, Train Loss: 3.0007, Validation Loss: 4.5506\n",
            "Epoch 27/100, Train Loss: 2.9690, Validation Loss: 3.3699\n",
            "Epoch 28/100, Train Loss: 2.9796, Validation Loss: 3.5268\n",
            "Epoch 29/100, Train Loss: 3.0225, Validation Loss: 3.6090\n",
            "Epoch 30/100, Train Loss: 3.0139, Validation Loss: 3.2768\n",
            "Epoch 31/100, Train Loss: 2.9213, Validation Loss: 3.2927\n",
            "Epoch 32/100, Train Loss: 2.9066, Validation Loss: 3.6605\n",
            "Epoch 33/100, Train Loss: 3.0411, Validation Loss: 3.2942\n",
            "Epoch 34/100, Train Loss: 2.9329, Validation Loss: 3.2729\n",
            "Epoch 35/100, Train Loss: 2.9404, Validation Loss: 3.2922\n",
            "Epoch 36/100, Train Loss: 2.9579, Validation Loss: 3.2717\n",
            "Epoch 37/100, Train Loss: 2.9952, Validation Loss: 3.3209\n",
            "Epoch 38/100, Train Loss: 2.9763, Validation Loss: 3.2624\n",
            "Epoch 39/100, Train Loss: 2.9186, Validation Loss: 3.2525\n",
            "Epoch 40/100, Train Loss: 2.9350, Validation Loss: 3.2550\n",
            "Epoch 41/100, Train Loss: 2.9557, Validation Loss: 3.6228\n",
            "Epoch 42/100, Train Loss: 2.8882, Validation Loss: 3.3571\n",
            "Epoch 43/100, Train Loss: 2.9684, Validation Loss: 3.7041\n",
            "Epoch 44/100, Train Loss: 2.9625, Validation Loss: 3.2395\n",
            "Epoch 45/100, Train Loss: 2.9213, Validation Loss: 5.0253\n",
            "Epoch 46/100, Train Loss: 2.9747, Validation Loss: 3.3641\n",
            "Epoch 47/100, Train Loss: 2.8855, Validation Loss: 3.3382\n",
            "Epoch 48/100, Train Loss: 2.9344, Validation Loss: 3.2337\n",
            "Epoch 49/100, Train Loss: 2.9047, Validation Loss: 3.5852\n",
            "Epoch 50/100, Train Loss: 2.9067, Validation Loss: 4.0249\n",
            "Epoch 51/100, Train Loss: 2.8960, Validation Loss: 3.2595\n",
            "Epoch 52/100, Train Loss: 2.9077, Validation Loss: 3.2329\n",
            "Epoch 53/100, Train Loss: 2.8551, Validation Loss: 3.3859\n",
            "Epoch 54/100, Train Loss: 3.0051, Validation Loss: 4.5761\n",
            "Epoch 55/100, Train Loss: 2.8867, Validation Loss: 3.8992\n",
            "Epoch 56/100, Train Loss: 2.8783, Validation Loss: 3.7543\n",
            "Epoch 57/100, Train Loss: 2.9543, Validation Loss: 3.5553\n",
            "Epoch 58/100, Train Loss: 2.8703, Validation Loss: 3.2387\n",
            "Epoch 59/100, Train Loss: 2.8923, Validation Loss: 3.2227\n",
            "Epoch 60/100, Train Loss: 2.9216, Validation Loss: 3.2170\n",
            "Epoch 61/100, Train Loss: 2.8426, Validation Loss: 3.2898\n",
            "Epoch 62/100, Train Loss: 2.8648, Validation Loss: 3.2603\n",
            "Epoch 63/100, Train Loss: 2.8711, Validation Loss: 3.5338\n",
            "Epoch 64/100, Train Loss: 2.8670, Validation Loss: 3.2191\n",
            "Epoch 65/100, Train Loss: 2.8245, Validation Loss: 3.2535\n",
            "Epoch 66/100, Train Loss: 2.9134, Validation Loss: 3.2162\n",
            "Epoch 67/100, Train Loss: 2.9619, Validation Loss: 3.3596\n",
            "Epoch 68/100, Train Loss: 2.9343, Validation Loss: 3.2124\n",
            "Epoch 69/100, Train Loss: 2.8944, Validation Loss: 3.4990\n",
            "Epoch 70/100, Train Loss: 2.8932, Validation Loss: 3.6767\n",
            "Epoch 71/100, Train Loss: 2.9086, Validation Loss: 3.4887\n",
            "Epoch 72/100, Train Loss: 2.8135, Validation Loss: 3.2322\n",
            "Epoch 73/100, Train Loss: 2.8854, Validation Loss: 3.4815\n",
            "Epoch 74/100, Train Loss: 2.8980, Validation Loss: 3.2412\n",
            "Epoch 75/100, Train Loss: 2.8408, Validation Loss: 3.2255\n",
            "Epoch 76/100, Train Loss: 2.8201, Validation Loss: 3.2078\n",
            "Epoch 77/100, Train Loss: 2.9303, Validation Loss: 3.3122\n",
            "Epoch 78/100, Train Loss: 2.9019, Validation Loss: 3.5644\n",
            "Epoch 79/100, Train Loss: 2.8580, Validation Loss: 3.9771\n",
            "Epoch 80/100, Train Loss: 2.8992, Validation Loss: 3.4409\n",
            "Epoch 81/100, Train Loss: 2.9330, Validation Loss: 4.3002\n",
            "Epoch 82/100, Train Loss: 2.8787, Validation Loss: 3.2761\n",
            "Epoch 83/100, Train Loss: 2.8166, Validation Loss: 3.2106\n",
            "Epoch 84/100, Train Loss: 2.8867, Validation Loss: 3.6498\n",
            "Epoch 85/100, Train Loss: 2.8773, Validation Loss: 3.2736\n",
            "Epoch 86/100, Train Loss: 2.8466, Validation Loss: 3.2051\n",
            "Epoch 87/100, Train Loss: 2.8906, Validation Loss: 3.2063\n",
            "Epoch 88/100, Train Loss: 2.8882, Validation Loss: 3.2153\n",
            "Epoch 89/100, Train Loss: 2.8481, Validation Loss: 3.4538\n",
            "Epoch 90/100, Train Loss: 2.9159, Validation Loss: 3.3969\n",
            "Epoch 91/100, Train Loss: 2.8316, Validation Loss: 3.7207\n",
            "Epoch 92/100, Train Loss: 2.8557, Validation Loss: 3.2068\n",
            "Epoch 93/100, Train Loss: 2.8707, Validation Loss: 3.6339\n",
            "Epoch 94/100, Train Loss: 2.8655, Validation Loss: 3.2297\n",
            "Epoch 95/100, Train Loss: 2.8320, Validation Loss: 3.2707\n",
            "Epoch 96/100, Train Loss: 2.8342, Validation Loss: 3.2593\n",
            "Epoch 97/100, Train Loss: 2.8878, Validation Loss: 3.2114\n",
            "Epoch 98/100, Train Loss: 2.8922, Validation Loss: 3.6329\n",
            "Epoch 99/100, Train Loss: 2.8885, Validation Loss: 3.2139\n",
            "Epoch 100/100, Train Loss: 2.8977, Validation Loss: 3.9771\n"
          ]
        }
      ],
      "source": [
        "epochs = 100\n",
        "test_pred, train_loss, val_loss = train_test(epochs, [16, 32, 64, 32, 16], 0.001 , 64)"
      ]
    },
    {
      "cell_type": "code",
      "execution_count": null,
      "metadata": {
        "colab": {
          "base_uri": "https://localhost:8080/",
          "height": 564
        },
        "id": "EfpmLztdolkS",
        "outputId": "2e0e4ada-8cfb-4363-9d53-4c21e4beefe6"
      },
      "outputs": [
        {
          "data": {
            "image/png": "[encoded data removed]",
            "text/plain": [
              "<Figure size 1000x600 with 1 Axes>"
            ]
          },
          "metadata": {},
          "output_type": "display_data"
        }
      ],
      "source": [
        "plt.figure(figsize=(10, 6))\n",
        "plt.plot(train_loss, label='Train Loss')\n",
        "plt.plot(val_loss, label='Validation Loss')\n",
        "plt.xlabel('Epoch')\n",
        "plt.ylabel('Loss')\n",
        "plt.title('Train and Validation Loss')\n",
        "plt.ylim(0, 8)\n",
        "plt.legend()\n",
        "plt.grid(True)\n",
        "plt.savefig(f'loss.png')\n",
        "plt.show()"
      ]
    },
    {
      "cell_type": "code",
      "execution_count": null,
      "metadata": {
        "colab": {
          "base_uri": "https://localhost:8080/"
        },
        "id": "twvTBAgHpW8g",
        "outputId": "a9afdd25-02b8-49ec-95ff-9198ae845adf"
      },
      "outputs": [
        {
          "name": "stdout",
          "output_type": "stream",
          "text": [
            "Top 10% threshold: 90.1005\n",
            "Number of samples in top 10%: [499]\n"
          ]
        }
      ],
      "source": [
        "# 상위 10% 임계값 계산\n",
        "threshold = np.percentile(test_pred, 90)\n",
        "top_10_percent_mask = test_pred >= threshold\n",
        "\n",
        "# 제출 파일 생성\n",
        "submission_df = pd.read_csv(submission_csv_path)\n",
        "submission_df['y'] = test_pred\n",
        "submission_df.to_csv(f'MLP5_pReLU_Xavier_sp_epoch{epochs}.csv', index=False)\n",
        "\n",
        "# 결과 저장\n",
        "log_file_path = 'TOP10_threshold.txt'\n",
        "with open(log_file_path, 'w') as log_file:\n",
        "    log_file.write(f\"Top 10% threshold: {threshold:.4f}\\n\")\n",
        "\n",
        "# 결과 출력\n",
        "print(f\"Top 10% threshold: {threshold:.4f}\")\n",
        "print(f\"Number of samples in top 10%: {sum(top_10_percent_mask)}\")"
      ]
    }
  ],
  "metadata": {
    "accelerator": "GPU",
    "colab": {
      "gpuType": "T4",
      "provenance": []
    },
    "kernelspec": {
      "display_name": "Python 3",
      "name": "python3"
    },
    "language_info": {
      "name": "python"
    }
  },
  "nbformat": 4,
  "nbformat_minor": 0
}
