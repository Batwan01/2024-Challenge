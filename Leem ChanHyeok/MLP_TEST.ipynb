{
  "cells": [
    {
      "cell_type": "markdown",
      "metadata": {
        "id": "m2KZC-cmKREl"
      },
      "source": [
        "# Samsung AI Challenge : Black-box Optimization\n",
        "\n",
        "---\n"
      ]
    },
    {
      "cell_type": "markdown",
      "source": [
        "# 0. 초기 세팅 (필수 실행)\n",
        "\n",
        "\n"
      ],
      "metadata": {
        "id": "CTNFa1kUiS8m"
      }
    },
    {
      "cell_type": "code",
      "execution_count": 18,
      "metadata": {
        "id": "TSYWao-mdfy3",
        "colab": {
          "base_uri": "https://localhost:8080/"
        },
        "outputId": "290dff04-65e5-4899-dd02-ee74cf1a606d"
      },
      "outputs": [
        {
          "output_type": "stream",
          "name": "stdout",
          "text": [
            "Drive already mounted at /content/drive; to attempt to forcibly remount, call drive.mount(\"/content/drive\", force_remount=True).\n"
          ]
        }
      ],
      "source": [
        "import torch\n",
        "import torch.nn as nn\n",
        "import torch.optim as optim\n",
        "import matplotlib.pyplot as plt\n",
        "import json\n",
        "import numpy as np\n",
        "import random\n",
        "import pandas as pd\n",
        "\n",
        "from sklearn.model_selection import train_test_split\n",
        "from torch.utils.data import DataLoader, TensorDataset\n",
        "from sklearn.model_selection import ParameterGrid\n",
        "from google.colab import drive\n",
        "\n",
        "drive.mount('/content/drive')\n",
        "\n",
        "# 재현 가능성을 위한 시드 고정\n",
        "RANDOM_SEED = 18\n",
        "torch.manual_seed(RANDOM_SEED)\n",
        "torch.cuda.manual_seed(RANDOM_SEED)\n",
        "np.random.seed(RANDOM_SEED)\n",
        "random.seed(RANDOM_SEED)\n",
        "torch.backends.cudnn.deterministic = True\n",
        "torch.backends.cudnn.benchmark = False\n",
        "\n",
        "# Dataloader 시드 고정 (아직 사용 x)\n",
        "'''\n",
        "generator = torch.Generator()\n",
        "generator.manual_seed(RANDOM_SEED)\n",
        "\n",
        "def worker_init_fn(worker_id):\n",
        "    worker_seed = torch.initial_seed() % 2**32\n",
        "    np.random.seed(worker_seed)\n",
        "    random.seed(worker_seed)\n",
        "\n",
        "# DataLoader(worker_init_fn=worker_init_fn)\n",
        "'''\n",
        "\n",
        "# 데이터 경로 설정\n",
        "train_csv_path = \"/content/drive/MyDrive/Samsung_AI_challenge/Data/train.csv\"\n",
        "test_csv_path = \"/content/drive/MyDrive/Samsung_AI_challenge/Data/test.csv\"\n",
        "submission_csv_path = '/content/drive/MyDrive/Samsung_AI_challenge/Data/sample_submission.csv'\n",
        "\n",
        "# 기타 경로 설정 : 저장되는 데이터 이름 등 (model, method 에 맞게 설정)\n"
      ]
    },
    {
      "cell_type": "code",
      "source": [
        "# mode 설정 : 어떤 model, 최적화 기법을 사용할 지 정하는 부분 (현재는 GS = Grid Search 만 사용)\n",
        "mode = 'MLP5Hidden' # 사용할 모델 class 이름 : [모델 정의 참조]\n",
        "method = \"GS\" # 사용할 모델 하이퍼파라미터 최적화 알고리즘 이름"
      ],
      "metadata": {
        "id": "4ucCS4iWJwY1"
      },
      "execution_count": 19,
      "outputs": []
    },
    {
      "cell_type": "markdown",
      "source": [
        "# 1. 모델 정의 (필수 실행)"
      ],
      "metadata": {
        "id": "gEB4bnwZj60f"
      }
    },
    {
      "cell_type": "markdown",
      "source": [
        "## 1-1 순수 MLP Linear + ReLU 모델"
      ],
      "metadata": {
        "id": "2ECHOl45t9eZ"
      }
    },
    {
      "cell_type": "markdown",
      "source": [
        "### MLP - 은닉층 3개"
      ],
      "metadata": {
        "id": "FEEbgqaDvPDU"
      }
    },
    {
      "cell_type": "code",
      "source": [
        "# MLP - 은닉층 3개\n",
        "'''\n",
        "Grid Search 하이퍼파라미터 범위\n",
        "\n",
        "[Epoch 100 기준]\n",
        "param_grid = {\n",
        "    'hidden_sizes': [[64, 128, 64], [128, 256, 128], [32, 64, 32]],\n",
        "    'learning_rate': [0.01, 0.001, 0.0001],\n",
        "    'batch_size': [32, 64, 128],\n",
        "}\n",
        "'''\n",
        "# 현재 최고성능 모델 하이퍼파라미터(GS) : {\"batch_size\": 64, \"hidden_sizes\": [64, 128, 64], \"learning_rate\": 0.01}\n",
        "# Epoch : 500\n",
        "# Top 10% threshold : 92.0392\n",
        "# 제출 성능 : 0.728\n",
        "class MLP3Hidden(nn.Module):\n",
        "    def __init__(self, input_size=11, hidden_sizes=[64, 128, 64], output_size=1):\n",
        "        super(MLP3Hidden, self).__init__()\n",
        "        self.fc1 = nn.Linear(input_size, hidden_sizes[0])\n",
        "        self.fc2 = nn.Linear(hidden_sizes[0], hidden_sizes[1])\n",
        "        self.fc3 = nn.Linear(hidden_sizes[1], hidden_sizes[2])\n",
        "        self.fc4 = nn.Linear(hidden_sizes[2], output_size)\n",
        "        self.relu = nn.ReLU()\n",
        "\n",
        "    def forward(self, x):\n",
        "        x = self.relu(self.fc1(x))\n",
        "        x = self.relu(self.fc2(x))\n",
        "        x = self.relu(self.fc3(x))\n",
        "        x = self.fc4(x)\n",
        "        return x\n"
      ],
      "metadata": {
        "id": "7cNslOmIk5_O"
      },
      "execution_count": null,
      "outputs": []
    },
    {
      "cell_type": "markdown",
      "source": [
        "### MLP - 은닉층 4개"
      ],
      "metadata": {
        "id": "tDKQE-3GvWkQ"
      }
    },
    {
      "cell_type": "code",
      "source": [
        "# MLP - 은닉층 4개\n",
        "'''\n",
        "Grid Search 하이퍼파라미터 범위\n",
        "\n",
        "'''\n",
        "# 현재 최고성능 모델 하이퍼파라미터(GS) :\n",
        "# Epoch :\n",
        "# Top 10% threshold :\n",
        "# 제출 성능 :\n",
        "class MLP4Hidden(nn.Module):\n",
        "    def __init__(self, input_size=11, hidden_sizes=[64, 128, 64, 32], output_size=1):\n",
        "        super(MLP4Hidden, self).__init__()\n",
        "        self.fc1 = nn.Linear(input_size, hidden_sizes[0])\n",
        "        self.fc2 = nn.Linear(hidden_sizes[0], hidden_sizes[1])\n",
        "        self.fc3 = nn.Linear(hidden_sizes[1], hidden_sizes[2])\n",
        "        self.fc4 = nn.Linear(hidden_sizes[2], hidden_sizes[3])\n",
        "        self.fc5 = nn.Linear(hidden_sizes[3], output_size)\n",
        "        self.relu = nn.ReLU()\n",
        "\n",
        "    def forward(self, x):\n",
        "        x = self.relu(self.fc1(x))\n",
        "        x = self.relu(self.fc2(x))\n",
        "        x = self.relu(self.fc3(x))\n",
        "        x = self.relu(self.fc4(x))\n",
        "        x = self.fc5(x)\n",
        "        return x\n"
      ],
      "metadata": {
        "id": "ThyWaZtJvL_v"
      },
      "execution_count": 28,
      "outputs": []
    },
    {
      "cell_type": "markdown",
      "source": [
        "### MLP - 은닉층 5개 (best)(0.736)"
      ],
      "metadata": {
        "id": "74A7YgW-vbdB"
      }
    },
    {
      "cell_type": "code",
      "source": [
        "# MLP - 은닉층 5개\n",
        "'''\n",
        "Grid Search 하이퍼파라미터 범위\n",
        "\n",
        "[Epoch 100 기준]\n",
        "param_grid = {\n",
        "    'hidden_sizes': [[64, 128, 128, 64, 32], [128, 256, 256, 128, 64], [32, 64, 64, 32, 16]],\n",
        "    'learning_rate': [0.01, 0.001],\n",
        "    'batch_size': [32, 64, 128],\n",
        "}\n",
        "'''\n",
        "# 현재 최고성능 모델 하이퍼파라미터(GS) : {\"batch_size\": 32, \"hidden_sizes\": [32, 64, 64, 32, 16], \"learning_rate\": 0.001}\n",
        "# Epoch : 93\n",
        "# Top 10% threshold: 92.9191\n",
        "# 제출 성능 : 0.736\n",
        "class MLP5Hidden(nn.Module):\n",
        "    def __init__(self, input_size=11, hidden_sizes=[32, 64, 64, 32, 16], output_size=1):\n",
        "        super(MLP5Hidden, self).__init__()\n",
        "        self.fc1 = nn.Linear(input_size, hidden_sizes[0])\n",
        "        self.fc2 = nn.Linear(hidden_sizes[0], hidden_sizes[1])\n",
        "        self.fc3 = nn.Linear(hidden_sizes[1], hidden_sizes[2])\n",
        "        self.fc4 = nn.Linear(hidden_sizes[2], hidden_sizes[3])\n",
        "        self.fc5 = nn.Linear(hidden_sizes[3], hidden_sizes[4])\n",
        "        self.fc6 = nn.Linear(hidden_sizes[4], output_size)\n",
        "        self.relu = nn.ReLU()\n",
        "\n",
        "    def forward(self, x):\n",
        "        x = self.relu(self.fc1(x))\n",
        "        x = self.relu(self.fc2(x))\n",
        "        x = self.relu(self.fc3(x))\n",
        "        x = self.relu(self.fc4(x))\n",
        "        x = self.relu(self.fc5(x))\n",
        "        x = self.fc6(x)\n",
        "        return x\n"
      ],
      "metadata": {
        "id": "C26L73cGvY8d"
      },
      "execution_count": 29,
      "outputs": []
    },
    {
      "cell_type": "markdown",
      "source": [
        "## 1-1 MLP Linear + BatchNorm + Dropout + ReLU 모델"
      ],
      "metadata": {
        "id": "GGMNcDKWvulo"
      }
    },
    {
      "cell_type": "markdown",
      "source": [
        "### MLP - 은닉층 3개 + BN + Drop"
      ],
      "metadata": {
        "id": "XwbyedQJw9TS"
      }
    },
    {
      "cell_type": "code",
      "source": [
        "# MLP - 은닉층 3개 + BatchNorm + Dropout\n",
        "'''\n",
        "Grid Search 하이퍼파라미터 범위\n",
        "\n",
        "'''\n",
        "# 현재 최고성능 모델 하이퍼파라미터(GS) :\n",
        "# Epoch :\n",
        "# Top 10% threshold :\n",
        "# 제출 성능 :\n",
        "class MLP3HiddenBnDrop(nn.Module):\n",
        "    def __init__(self, input_size=11, hidden_sizes=[64, 128, 64], output_size=1):\n",
        "        super(MLP3HiddenBnDrop, self).__init__()\n",
        "\n",
        "        self.fc1 = nn.Linear(input_size, hidden_sizes[0])\n",
        "        self.bn1 = nn.BatchNorm1d(hidden_sizes[0])\n",
        "        self.dropout1 = nn.Dropout(0.5)\n",
        "\n",
        "        self.fc2 = nn.Linear(hidden_sizes[0], hidden_sizes[1])\n",
        "        self.bn2 = nn.BatchNorm1d(hidden_sizes[1])\n",
        "        self.dropout2 = nn.Dropout(0.5)\n",
        "\n",
        "        self.fc3 = nn.Linear(hidden_sizes[1], hidden_sizes[2])\n",
        "        self.bn3 = nn.BatchNorm1d(hidden_sizes[2])\n",
        "        self.dropout3 = nn.Dropout(0.5)\n",
        "\n",
        "        self.fc4 = nn.Linear(hidden_sizes[2], output_size)\n",
        "        self.relu = nn.ReLU()\n",
        "\n",
        "    def forward(self, x):\n",
        "        x = self.bn1(self.fc1(x))\n",
        "        x = self.relu(self.dropout1(x))\n",
        "\n",
        "        x = self.bn2(self.fc2(x))\n",
        "        x = self.relu(self.dropout2(x))\n",
        "\n",
        "        x = self.bn3(self.fc3(x))\n",
        "        x = self.relu(self.dropout3(x))\n",
        "\n",
        "        x = self.fc4(x)\n",
        "        return x"
      ],
      "metadata": {
        "id": "N_ZuWQ5Av7xo"
      },
      "execution_count": null,
      "outputs": []
    },
    {
      "cell_type": "markdown",
      "source": [
        "### MLP - 은닉층 5개 + BN + Drop"
      ],
      "metadata": {
        "id": "OZqr3RLVv1eg"
      }
    },
    {
      "cell_type": "code",
      "source": [
        "# MLP - 은닉층 5개 + BatchNorm + Dropout\n",
        "'''\n",
        "Grid Search 하이퍼파라미터 범위\n",
        "\n",
        "'''\n",
        "# 현재 최고성능 모델 하이퍼파라미터(GS) :\n",
        "# Epoch :\n",
        "# Top 10% threshold :\n",
        "# 제출 성능 :\n",
        "class MLP5HiddenBnDrop(nn.Module):\n",
        "    def __init__(self, input_size=11, hidden_sizes=[64, 128, 64, 32, 16], dropout_rate = 0.5, output_size=1):\n",
        "        super(MLP5HiddenBnDrop, self).__init__()\n",
        "\n",
        "        self.fc1 = nn.Linear(input_size, hidden_sizes[0])\n",
        "        self.bn1 = nn.BatchNorm1d(hidden_sizes[0])\n",
        "        self.dropout1 = nn.Dropout(0.5)\n",
        "\n",
        "        self.fc2 = nn.Linear(hidden_sizes[0], hidden_sizes[1])\n",
        "        self.bn2 = nn.BatchNorm1d(hidden_sizes[1])\n",
        "        self.dropout2 = nn.Dropout(0.5)\n",
        "\n",
        "        self.fc3 = nn.Linear(hidden_sizes[1], hidden_sizes[2])\n",
        "        self.bn3 = nn.BatchNorm1d(hidden_sizes[2])\n",
        "        self.dropout3 = nn.Dropout(0.5)\n",
        "\n",
        "        self.fc4 = nn.Linear(hidden_sizes[2], hidden_sizes[3])\n",
        "        self.bn4 = nn.BatchNorm1d(hidden_sizes[3])\n",
        "        self.dropout4 = nn.Dropout(0.5)\n",
        "\n",
        "        self.fc5 = nn.Linear(hidden_sizes[3], hidden_sizes[4])\n",
        "        self.bn5 = nn.BatchNorm1d(hidden_sizes[4])\n",
        "        self.dropout5 = nn.Dropout(0.5)\n",
        "\n",
        "        self.fc6 = nn.Linear(hidden_sizes[4], output_size)\n",
        "\n",
        "        self.relu = nn.ReLU()\n",
        "\n",
        "    def forward(self, x):\n",
        "        x = self.bn1(self.fc1(x))\n",
        "        x = self.relu(self.dropout1(x))\n",
        "\n",
        "        x = self.bn2(self.fc2(x))\n",
        "        x = self.relu(self.dropout2(x))\n",
        "\n",
        "        x = self.bn3(self.fc3(x))\n",
        "        x = self.relu(self.dropout3(x))\n",
        "\n",
        "        x = self.bn4(self.fc4(x))\n",
        "        x = self.relu(self.dropout4(x))\n",
        "\n",
        "        x = self.bn5(self.fc5(x))\n",
        "        x = self.relu(self.dropout5(x))\n",
        "\n",
        "        x = self.fc6(x)\n",
        "\n",
        "        return x"
      ],
      "metadata": {
        "id": "urMK3xj4vp4C"
      },
      "execution_count": null,
      "outputs": []
    },
    {
      "cell_type": "markdown",
      "source": [
        "# 2. 모델 하이퍼파라미터 최적화 (선택)"
      ],
      "metadata": {
        "id": "2Dxtn9rQxRIc"
      }
    },
    {
      "cell_type": "markdown",
      "source": [
        "## 2-1. 훈련데이터 -> 훈련+검증 데이터"
      ],
      "metadata": {
        "id": "bItSrRndxX6m"
      }
    },
    {
      "cell_type": "code",
      "source": [
        "# 훈련 데이터를 훈련 + 검증 데이터로 나누고 train_dataset, val_dataset 을 반환하는 함수\n",
        "def split_dataloader(train_csv_path, val_ratio=0.2, random_state=RANDOM_SEED):\n",
        "    train_data = pd.read_csv(train_csv_path)\n",
        "\n",
        "    X = torch.tensor(train_data.iloc[:,1:-1].values, dtype=torch.float32)\n",
        "    y = torch.tensor(train_data.iloc[:,-1].values, dtype = torch.float32).view(-1,1)\n",
        "\n",
        "    X_train, X_val, y_train, y_val = train_test_split(X, y, test_size=val_ratio, random_state=random_state)\n",
        "\n",
        "    train_dataset = TensorDataset(X_train, y_train)\n",
        "    val_dataset = TensorDataset(X_val, y_val)\n",
        "\n",
        "    return train_dataset, val_dataset\n",
        "\n",
        "train_dataset, val_dataset = split_dataloader(train_csv_path)"
      ],
      "metadata": {
        "id": "S7oEjp5eyAHu"
      },
      "execution_count": 3,
      "outputs": []
    },
    {
      "cell_type": "markdown",
      "source": [
        "## 2-2. Grid Search 최적화 알고리즘"
      ],
      "metadata": {
        "id": "DKoiQTtUzc5F"
      }
    },
    {
      "cell_type": "markdown",
      "source": [
        "### mode 별 하이퍼파라미터 범위 설정"
      ],
      "metadata": {
        "id": "gpHg2FiU0qS-"
      }
    },
    {
      "cell_type": "code",
      "source": [
        "if mode == 'MLP3Hidden':\n",
        "    param_grid = {\n",
        "    'hidden_sizes': [[64, 128, 64], [128, 256, 128], [32, 64, 32]],\n",
        "    'learning_rate': [0.01, 0.001, 0.0001],\n",
        "    'batch_size': [32, 64, 128],\n",
        "    }\n",
        "\n",
        "elif mode == 'MLP4Hidden':\n",
        "    param_grid = {\n",
        "    'hidden_sizes': [[64, 128, 128, 64], [128, 256, 128, 64], [32, 64, 64, 32]],\n",
        "    'learning_rate': [0.01, 0.001],\n",
        "    'batch_size': [32, 64, 128],\n",
        "    }\n",
        "\n",
        "elif mode == 'MLP5Hidden':\n",
        "    param_grid = {\n",
        "    'hidden_sizes': [[64, 128, 128, 64, 32], [128, 256, 256, 128, 64], [32, 64, 64, 32, 16]],\n",
        "    'learning_rate': [0.01, 0.001],\n",
        "    'batch_size': [32, 64, 128],\n",
        "    }\n",
        "\n",
        "with open(f'{mode}_param_grid_range.json', 'w') as json_file:\n",
        "    json.dump(param_grid, json_file)"
      ],
      "metadata": {
        "id": "K2q-zfqb000Y"
      },
      "execution_count": 4,
      "outputs": []
    },
    {
      "cell_type": "markdown",
      "source": [
        "### mode 별 탐색을 위한 함수 정의"
      ],
      "metadata": {
        "id": "KXbECUbP1nWd"
      }
    },
    {
      "cell_type": "code",
      "source": [
        "def mode_model(mode, hidden_sizes):\n",
        "    if mode == 'MLP3Hidden':\n",
        "        return MLP3Hidden(hidden_sizes=hidden_sizes)\n",
        "    elif mode == 'MLP4Hidden':\n",
        "        return MLP4Hidden(hidden_sizes=hidden_sizes)\n",
        "    elif mode == 'MLP5Hidden':\n",
        "        return MLP5Hidden(hidden_sizes=hidden_sizes)\n",
        "\n",
        "def train_validation_model(mode, hidden_sizes, learning_rate, batch_size):\n",
        "\n",
        "    model = mode_model(mode, hidden_sizes).cuda()\n",
        "    criterion = nn.MSELoss().cuda()\n",
        "    optimizer = optim.Adam(model.parameters(), lr=learning_rate)\n",
        "\n",
        "    train_loader = DataLoader(train_dataset, batch_size=batch_size, shuffle=True)\n",
        "    val_loader = DataLoader(val_dataset, batch_size=batch_size, shuffle=False)\n",
        "\n",
        "    for epoch in range(100):\n",
        "        model.train()\n",
        "        for batch_X, batch_y in train_loader:\n",
        "            batch_X, batch_y = batch_X.cuda(), batch_y.cuda()\n",
        "            outputs = model(batch_X)\n",
        "            loss = criterion(outputs, batch_y)\n",
        "            optimizer.zero_grad()\n",
        "            loss.backward()\n",
        "            optimizer.step()\n",
        "\n",
        "    model.eval()\n",
        "    val_loss = 0\n",
        "    with torch.no_grad():\n",
        "        for batch_X, batch_y in val_loader:\n",
        "            batch_X, batch_y = batch_X.cuda(), batch_y.cuda()\n",
        "            outputs = model(batch_X)\n",
        "            loss = criterion(outputs, batch_y)\n",
        "            val_loss += loss.item()\n",
        "\n",
        "    MSE = val_loss / len(val_loader)\n",
        "    return MSE\n"
      ],
      "metadata": {
        "id": "IR5yMQVc474A"
      },
      "execution_count": 5,
      "outputs": []
    },
    {
      "cell_type": "markdown",
      "source": [
        "### Grid Search 수행"
      ],
      "metadata": {
        "id": "T6fFa4Tf5Gnr"
      }
    },
    {
      "cell_type": "code",
      "source": [
        "def grid_search(parma_grid):\n",
        "    best_params = None\n",
        "    best_MSE = float('inf')\n",
        "\n",
        "    for params in ParameterGrid(param_grid):\n",
        "        MSE = train_validation_model(mode, **params)\n",
        "        print(f\"Testing parameters: {params} => MSE: {MSE:.4f}\")\n",
        "        if MSE < best_MSE:\n",
        "            best_MSE = MSE\n",
        "            best_params = params\n",
        "\n",
        "    return best_params, best_MSE\n",
        "\n",
        "\n",
        "best_params, best_MSE = grid_search(param_grid)\n",
        "print(f'\\nBest parameters: {best_params} with a MSE of {best_MSE:.4f}')\n",
        "\n",
        "with open(f'{mode}_bestparams.json', 'w') as json_file:\n",
        "    json.dump(best_params, json_file)"
      ],
      "metadata": {
        "colab": {
          "base_uri": "https://localhost:8080/",
          "height": 453
        },
        "id": "QLXaTm4X5FLd",
        "outputId": "4df3e886-eb84-48ff-c1c2-0c2db4802363"
      },
      "execution_count": 6,
      "outputs": [
        {
          "output_type": "stream",
          "name": "stdout",
          "text": [
            "Testing parameters: {'batch_size': 32, 'hidden_sizes': [64, 128, 128, 64, 32], 'learning_rate': 0.01} => MSE: 3.7686\n",
            "Testing parameters: {'batch_size': 32, 'hidden_sizes': [64, 128, 128, 64, 32], 'learning_rate': 0.001} => MSE: 3.2252\n",
            "Testing parameters: {'batch_size': 32, 'hidden_sizes': [128, 256, 256, 128, 64], 'learning_rate': 0.01} => MSE: 3.2314\n",
            "Testing parameters: {'batch_size': 32, 'hidden_sizes': [128, 256, 256, 128, 64], 'learning_rate': 0.001} => MSE: 3.2972\n"
          ]
        },
        {
          "output_type": "error",
          "ename": "KeyboardInterrupt",
          "evalue": "",
          "traceback": [
            "\u001b[0;31m---------------------------------------------------------------------------\u001b[0m",
            "\u001b[0;31mKeyboardInterrupt\u001b[0m                         Traceback (most recent call last)",
            "\u001b[0;32m<ipython-input-6-b7d36c49563b>\u001b[0m in \u001b[0;36m<cell line: 15>\u001b[0;34m()\u001b[0m\n\u001b[1;32m     13\u001b[0m \u001b[0;34m\u001b[0m\u001b[0m\n\u001b[1;32m     14\u001b[0m \u001b[0;34m\u001b[0m\u001b[0m\n\u001b[0;32m---> 15\u001b[0;31m \u001b[0mbest_params\u001b[0m\u001b[0;34m,\u001b[0m \u001b[0mbest_MSE\u001b[0m \u001b[0;34m=\u001b[0m \u001b[0mgrid_search\u001b[0m\u001b[0;34m(\u001b[0m\u001b[0mparam_grid\u001b[0m\u001b[0;34m)\u001b[0m\u001b[0;34m\u001b[0m\u001b[0;34m\u001b[0m\u001b[0m\n\u001b[0m\u001b[1;32m     16\u001b[0m \u001b[0mprint\u001b[0m\u001b[0;34m(\u001b[0m\u001b[0;34mf'\\nBest parameters: {best_params} with a MSE of {best_MSE:.4f}'\u001b[0m\u001b[0;34m)\u001b[0m\u001b[0;34m\u001b[0m\u001b[0;34m\u001b[0m\u001b[0m\n\u001b[1;32m     17\u001b[0m \u001b[0;34m\u001b[0m\u001b[0m\n",
            "\u001b[0;32m<ipython-input-6-b7d36c49563b>\u001b[0m in \u001b[0;36mgrid_search\u001b[0;34m(parma_grid)\u001b[0m\n\u001b[1;32m      4\u001b[0m \u001b[0;34m\u001b[0m\u001b[0m\n\u001b[1;32m      5\u001b[0m     \u001b[0;32mfor\u001b[0m \u001b[0mparams\u001b[0m \u001b[0;32min\u001b[0m \u001b[0mParameterGrid\u001b[0m\u001b[0;34m(\u001b[0m\u001b[0mparam_grid\u001b[0m\u001b[0;34m)\u001b[0m\u001b[0;34m:\u001b[0m\u001b[0;34m\u001b[0m\u001b[0;34m\u001b[0m\u001b[0m\n\u001b[0;32m----> 6\u001b[0;31m         \u001b[0mMSE\u001b[0m \u001b[0;34m=\u001b[0m \u001b[0mtrain_validation_model\u001b[0m\u001b[0;34m(\u001b[0m\u001b[0mmode\u001b[0m\u001b[0;34m,\u001b[0m \u001b[0;34m**\u001b[0m\u001b[0mparams\u001b[0m\u001b[0;34m)\u001b[0m\u001b[0;34m\u001b[0m\u001b[0;34m\u001b[0m\u001b[0m\n\u001b[0m\u001b[1;32m      7\u001b[0m         \u001b[0mprint\u001b[0m\u001b[0;34m(\u001b[0m\u001b[0;34mf\"Testing parameters: {params} => MSE: {MSE:.4f}\"\u001b[0m\u001b[0;34m)\u001b[0m\u001b[0;34m\u001b[0m\u001b[0;34m\u001b[0m\u001b[0m\n\u001b[1;32m      8\u001b[0m         \u001b[0;32mif\u001b[0m \u001b[0mMSE\u001b[0m \u001b[0;34m<\u001b[0m \u001b[0mbest_MSE\u001b[0m\u001b[0;34m:\u001b[0m\u001b[0;34m\u001b[0m\u001b[0;34m\u001b[0m\u001b[0m\n",
            "\u001b[0;32m<ipython-input-5-8039cdc2030c>\u001b[0m in \u001b[0;36mtrain_validation_model\u001b[0;34m(mode, hidden_sizes, learning_rate, batch_size)\u001b[0m\n\u001b[1;32m     23\u001b[0m             \u001b[0mloss\u001b[0m \u001b[0;34m=\u001b[0m \u001b[0mcriterion\u001b[0m\u001b[0;34m(\u001b[0m\u001b[0moutputs\u001b[0m\u001b[0;34m,\u001b[0m \u001b[0mbatch_y\u001b[0m\u001b[0;34m)\u001b[0m\u001b[0;34m\u001b[0m\u001b[0;34m\u001b[0m\u001b[0m\n\u001b[1;32m     24\u001b[0m             \u001b[0moptimizer\u001b[0m\u001b[0;34m.\u001b[0m\u001b[0mzero_grad\u001b[0m\u001b[0;34m(\u001b[0m\u001b[0;34m)\u001b[0m\u001b[0;34m\u001b[0m\u001b[0;34m\u001b[0m\u001b[0m\n\u001b[0;32m---> 25\u001b[0;31m             \u001b[0mloss\u001b[0m\u001b[0;34m.\u001b[0m\u001b[0mbackward\u001b[0m\u001b[0;34m(\u001b[0m\u001b[0;34m)\u001b[0m\u001b[0;34m\u001b[0m\u001b[0;34m\u001b[0m\u001b[0m\n\u001b[0m\u001b[1;32m     26\u001b[0m             \u001b[0moptimizer\u001b[0m\u001b[0;34m.\u001b[0m\u001b[0mstep\u001b[0m\u001b[0;34m(\u001b[0m\u001b[0;34m)\u001b[0m\u001b[0;34m\u001b[0m\u001b[0;34m\u001b[0m\u001b[0m\n\u001b[1;32m     27\u001b[0m \u001b[0;34m\u001b[0m\u001b[0m\n",
            "\u001b[0;32m/usr/local/lib/python3.10/dist-packages/torch/_tensor.py\u001b[0m in \u001b[0;36mbackward\u001b[0;34m(self, gradient, retain_graph, create_graph, inputs)\u001b[0m\n\u001b[1;32m    523\u001b[0m                 \u001b[0minputs\u001b[0m\u001b[0;34m=\u001b[0m\u001b[0minputs\u001b[0m\u001b[0;34m,\u001b[0m\u001b[0;34m\u001b[0m\u001b[0;34m\u001b[0m\u001b[0m\n\u001b[1;32m    524\u001b[0m             )\n\u001b[0;32m--> 525\u001b[0;31m         torch.autograd.backward(\n\u001b[0m\u001b[1;32m    526\u001b[0m             \u001b[0mself\u001b[0m\u001b[0;34m,\u001b[0m \u001b[0mgradient\u001b[0m\u001b[0;34m,\u001b[0m \u001b[0mretain_graph\u001b[0m\u001b[0;34m,\u001b[0m \u001b[0mcreate_graph\u001b[0m\u001b[0;34m,\u001b[0m \u001b[0minputs\u001b[0m\u001b[0;34m=\u001b[0m\u001b[0minputs\u001b[0m\u001b[0;34m\u001b[0m\u001b[0;34m\u001b[0m\u001b[0m\n\u001b[1;32m    527\u001b[0m         )\n",
            "\u001b[0;32m/usr/local/lib/python3.10/dist-packages/torch/autograd/__init__.py\u001b[0m in \u001b[0;36mbackward\u001b[0;34m(tensors, grad_tensors, retain_graph, create_graph, grad_variables, inputs)\u001b[0m\n\u001b[1;32m    265\u001b[0m     \u001b[0;31m# some Python versions print out the first line of a multi-line function\u001b[0m\u001b[0;34m\u001b[0m\u001b[0;34m\u001b[0m\u001b[0m\n\u001b[1;32m    266\u001b[0m     \u001b[0;31m# calls in the traceback and some print out the last line\u001b[0m\u001b[0;34m\u001b[0m\u001b[0;34m\u001b[0m\u001b[0m\n\u001b[0;32m--> 267\u001b[0;31m     _engine_run_backward(\n\u001b[0m\u001b[1;32m    268\u001b[0m         \u001b[0mtensors\u001b[0m\u001b[0;34m,\u001b[0m\u001b[0;34m\u001b[0m\u001b[0;34m\u001b[0m\u001b[0m\n\u001b[1;32m    269\u001b[0m         \u001b[0mgrad_tensors_\u001b[0m\u001b[0;34m,\u001b[0m\u001b[0;34m\u001b[0m\u001b[0;34m\u001b[0m\u001b[0m\n",
            "\u001b[0;32m/usr/local/lib/python3.10/dist-packages/torch/autograd/graph.py\u001b[0m in \u001b[0;36m_engine_run_backward\u001b[0;34m(t_outputs, *args, **kwargs)\u001b[0m\n\u001b[1;32m    742\u001b[0m         \u001b[0munregister_hooks\u001b[0m \u001b[0;34m=\u001b[0m \u001b[0m_register_logging_hooks_on_whole_graph\u001b[0m\u001b[0;34m(\u001b[0m\u001b[0mt_outputs\u001b[0m\u001b[0;34m)\u001b[0m\u001b[0;34m\u001b[0m\u001b[0;34m\u001b[0m\u001b[0m\n\u001b[1;32m    743\u001b[0m     \u001b[0;32mtry\u001b[0m\u001b[0;34m:\u001b[0m\u001b[0;34m\u001b[0m\u001b[0;34m\u001b[0m\u001b[0m\n\u001b[0;32m--> 744\u001b[0;31m         return Variable._execution_engine.run_backward(  # Calls into the C++ engine to run the backward pass\n\u001b[0m\u001b[1;32m    745\u001b[0m             \u001b[0mt_outputs\u001b[0m\u001b[0;34m,\u001b[0m \u001b[0;34m*\u001b[0m\u001b[0margs\u001b[0m\u001b[0;34m,\u001b[0m \u001b[0;34m**\u001b[0m\u001b[0mkwargs\u001b[0m\u001b[0;34m\u001b[0m\u001b[0;34m\u001b[0m\u001b[0m\n\u001b[1;32m    746\u001b[0m         )  # Calls into the C++ engine to run the backward pass\n",
            "\u001b[0;31mKeyboardInterrupt\u001b[0m: "
          ]
        }
      ]
    },
    {
      "cell_type": "markdown",
      "source": [
        "## 2-3 Epoch 최적화(Loss 시각화)"
      ],
      "metadata": {
        "id": "tuDvEydJ69dC"
      }
    },
    {
      "cell_type": "markdown",
      "source": [
        "### 훈련 함수 정의(loss 리스트 반환)"
      ],
      "metadata": {
        "id": "Ah6TMcv672zR"
      }
    },
    {
      "cell_type": "code",
      "source": [
        "def retrain_visualize(mode, hidden_sizes, learning_rate, batch_size):\n",
        "\n",
        "    model = mode_model(mode, hidden_sizes).cuda()\n",
        "    criterion = nn.MSELoss().cuda()\n",
        "    optimizer = optim.Adam(model.parameters(), lr=learning_rate)\n",
        "\n",
        "    train_loader = DataLoader(train_dataset, batch_size=batch_size, shuffle=True)\n",
        "    val_loader = DataLoader(val_dataset, batch_size=batch_size, shuffle=False)\n",
        "\n",
        "    train_losses = []\n",
        "    val_losses = []\n",
        "\n",
        "    for epoch in range(500):\n",
        "        model.train()\n",
        "        train_loss = 0.0\n",
        "        for batch_X, batch_y in train_loader:\n",
        "            batch_X, batch_y = batch_X.cuda(), batch_y.cuda()\n",
        "            outputs = model(batch_X)\n",
        "            loss = criterion(outputs, batch_y)\n",
        "            optimizer.zero_grad()\n",
        "            loss.backward()\n",
        "            optimizer.step()\n",
        "            train_loss += loss.item()\n",
        "\n",
        "        train_loss = train_loss / len(train_loader)\n",
        "        train_losses.append(train_loss)\n",
        "\n",
        "        model.eval()\n",
        "        val_loss = 0.0\n",
        "        with torch.no_grad():\n",
        "            for batch_X, batch_y in val_loader:\n",
        "                batch_X, batch_y = batch_X.cuda(), batch_y.cuda()\n",
        "                outputs = model(batch_X)\n",
        "                loss = criterion(outputs, batch_y)\n",
        "                val_loss += loss.item()\n",
        "\n",
        "        val_loss = val_loss / len(val_loader)\n",
        "        val_losses.append(val_loss)\n",
        "\n",
        "        print(f'Epoch {epoch+1}/100, Train Loss: {train_loss:.4f}, Validation Loss: {val_loss:.4f}')\n",
        "\n",
        "    return train_losses, val_losses"
      ],
      "metadata": {
        "id": "ggxtAs_H73kK"
      },
      "execution_count": 44,
      "outputs": []
    },
    {
      "cell_type": "code",
      "source": [
        "train_loss, val_loss = retrain_visualize(mode, best_params['hidden_sizes'], best_params['learning_rate'], best_params['batch_size'])"
      ],
      "metadata": {
        "colab": {
          "base_uri": "https://localhost:8080/"
        },
        "id": "fNXkcNfr9M99",
        "outputId": "3ddd0799-88d0-4e6a-b0b4-ac7989a52367"
      },
      "execution_count": 45,
      "outputs": [
        {
          "output_type": "stream",
          "name": "stdout",
          "text": [
            "Epoch 1/100, Train Loss: 410.2186, Validation Loss: 4.4311\n",
            "Epoch 2/100, Train Loss: 3.5175, Validation Loss: 3.6177\n"
          ]
        }
      ]
    },
    {
      "cell_type": "markdown",
      "source": [
        "### train / validation loss 시각화"
      ],
      "metadata": {
        "id": "pda8AaAo9XYn"
      }
    },
    {
      "cell_type": "code",
      "execution_count": 46,
      "metadata": {
        "colab": {
          "base_uri": "https://localhost:8080/",
          "height": 564
        },
        "id": "4eMul0RHdfy-",
        "outputId": "75058de0-b81a-4bde-8e2a-7652a5ec9799"
      },
      "outputs": [
        {
          "output_type": "display_data",
          "data": {
            "text/plain": [
              "<Figure size 1000x600 with 1 Axes>"
            ],
            "image/png": "[encoded data removed]"
          },
          "metadata": {}
        }
      ],
      "source": [
        "plt.figure(figsize=(10, 6))\n",
        "plt.plot(train_loss, label='Train Loss')\n",
        "plt.plot(val_loss, label='Validation Loss')\n",
        "plt.xlabel('Epoch')\n",
        "plt.ylabel('Loss')\n",
        "plt.title('Train and Validation Loss')\n",
        "plt.ylim(0, 8)\n",
        "plt.legend()\n",
        "plt.grid(True)\n",
        "plt.savefig(f'{mode}_loss.png')\n",
        "plt.show()"
      ]
    },
    {
      "cell_type": "markdown",
      "source": [
        "# 3. 모델 훈련 및 테스트"
      ],
      "metadata": {
        "id": "O-TNs_lB99EV"
      }
    },
    {
      "cell_type": "markdown",
      "source": [
        "## 3-1 best param 불러오기 (파일)  "
      ],
      "metadata": {
        "id": "uRdPTK-H-S5c"
      }
    },
    {
      "cell_type": "markdown",
      "source": [
        "### best parameter 를 파일로 불러오고 싶거나 모델 하이퍼파라미터 최적화 안했을 경우만 실행"
      ],
      "metadata": {
        "id": "D373Xod--nhY"
      }
    },
    {
      "cell_type": "code",
      "source": [
        "params_path = \"\"\n",
        "best_params = json.load(open(params_path, 'r'))"
      ],
      "metadata": {
        "id": "s6I6MI7v-58n"
      },
      "execution_count": null,
      "outputs": []
    },
    {
      "cell_type": "markdown",
      "source": [
        "## 3-2 DataLoader"
      ],
      "metadata": {
        "id": "My0dfZ6t_NNA"
      }
    },
    {
      "cell_type": "code",
      "source": [
        "def train_dataloader(train_csv_path):\n",
        "    train_data = pd.read_csv(train_csv_path)\n",
        "\n",
        "    X_train = train_data.iloc[:,1:-1].values\n",
        "    y_train = train_data.iloc[:,-1].values\n",
        "\n",
        "    X_train = torch.tensor(X_train, dtype = torch.float32)\n",
        "    y_train = torch.tensor(y_train, dtype = torch.float32).view(-1,1)\n",
        "\n",
        "    train_dataset = TensorDataset(X_train, y_train)\n",
        "\n",
        "    return train_dataset\n",
        "\n",
        "def test_dataloader(test_csv_path):\n",
        "    test_data = pd.read_csv(test_csv_path)\n",
        "\n",
        "    X_test = pd.read_csv(test_csv_path).iloc[:,1:].values\n",
        "    X_test = torch.tensor(X_test, dtype = torch.float32)\n",
        "\n",
        "    test_dataset = TensorDataset(X_test)\n",
        "\n",
        "    return test_dataset\n",
        "\n",
        "train_dataset = train_dataloader(train_csv_path)\n",
        "test_dataset = test_dataloader(test_csv_path)"
      ],
      "metadata": {
        "id": "AMapvgu8_bFY"
      },
      "execution_count": 33,
      "outputs": []
    },
    {
      "cell_type": "markdown",
      "source": [
        "## 3-4 Train"
      ],
      "metadata": {
        "id": "9gCIar4JAECo"
      }
    },
    {
      "cell_type": "code",
      "source": [
        "def train_test(mode, num_epochs, hidden_sizes, learning_rate, batch_size):\n",
        "\n",
        "    model = mode_model(mode, hidden_sizes).cuda()\n",
        "    criterion = nn.MSELoss().cuda()\n",
        "    optimizer = optim.Adam(model.parameters(), lr=learning_rate)\n",
        "\n",
        "    train_loader = DataLoader(train_dataset, batch_size=batch_size, shuffle=True)\n",
        "    test_loader = DataLoader(test_dataset, batch_size=batch_size, shuffle=False)\n",
        "\n",
        "    for epoch in range(num_epochs):\n",
        "        model.train()\n",
        "        train_loss = 0.0\n",
        "        for batch_X, batch_y in train_loader:\n",
        "            batch_X, batch_y = batch_X.cuda(), batch_y.cuda()\n",
        "            outputs = model(batch_X)\n",
        "            loss = criterion(outputs, batch_y)\n",
        "            optimizer.zero_grad()\n",
        "            loss.backward()\n",
        "            optimizer.step()\n",
        "            train_loss += loss.item()\n",
        "        '''\n",
        "        나중에 중간 중간 parameter 저장 예정\n",
        "        '''\n",
        "\n",
        "        train_loss = train_loss / len(train_loader)\n",
        "        print(f'Epoch {epoch+1}/{num_epochs}, Train Loss: {train_loss:.4f}')\n",
        "\n",
        "    model_save_path = f\"{mode}_epoch{num_epochs}.pth\"\n",
        "    torch.save(model.state_dict(), model_save_path)\n",
        "\n",
        "    model.eval()\n",
        "    test_pred = []\n",
        "    with torch.no_grad():\n",
        "        for batch in test_loader:\n",
        "            batch_X = batch[0].cuda()\n",
        "            outputs = model(batch_X)\n",
        "            test_pred.extend(outputs.cpu().numpy())\n",
        "\n",
        "    test_pred = np.array(test_pred)\n",
        "    return test_pred\n",
        "\n",
        "num_epochs = 100\n",
        "test_pred = train_test(mode, num_epochs, best_params['hidden_sizes'], best_params['learning_rate'], best_params['batch_size'])"
      ],
      "metadata": {
        "colab": {
          "base_uri": "https://localhost:8080/",
          "height": 379
        },
        "id": "8ar9j0zBAPcf",
        "outputId": "eb9999e8-e8b2-45ea-ddde-4058b1a3358f"
      },
      "execution_count": 35,
      "outputs": [
        {
          "output_type": "stream",
          "name": "stdout",
          "text": [
            "Epoch 1/100, Train Loss: 367.7600\n",
            "Epoch 2/100, Train Loss: 4.0501\n"
          ]
        },
        {
          "output_type": "error",
          "ename": "KeyboardInterrupt",
          "evalue": "",
          "traceback": [
            "\u001b[0;31m---------------------------------------------------------------------------\u001b[0m",
            "\u001b[0;31mKeyboardInterrupt\u001b[0m                         Traceback (most recent call last)",
            "\u001b[0;32m<ipython-input-35-a43ceaefd97a>\u001b[0m in \u001b[0;36m<cell line: 43>\u001b[0;34m()\u001b[0m\n\u001b[1;32m     41\u001b[0m \u001b[0;34m\u001b[0m\u001b[0m\n\u001b[1;32m     42\u001b[0m \u001b[0mnum_epochs\u001b[0m \u001b[0;34m=\u001b[0m \u001b[0;36m100\u001b[0m\u001b[0;34m\u001b[0m\u001b[0;34m\u001b[0m\u001b[0m\n\u001b[0;32m---> 43\u001b[0;31m \u001b[0mtest_pred\u001b[0m \u001b[0;34m=\u001b[0m \u001b[0mtrain_test\u001b[0m\u001b[0;34m(\u001b[0m\u001b[0mmode\u001b[0m\u001b[0;34m,\u001b[0m \u001b[0mnum_epochs\u001b[0m\u001b[0;34m,\u001b[0m \u001b[0mbest_params\u001b[0m\u001b[0;34m[\u001b[0m\u001b[0;34m'hidden_sizes'\u001b[0m\u001b[0;34m]\u001b[0m\u001b[0;34m,\u001b[0m \u001b[0mbest_params\u001b[0m\u001b[0;34m[\u001b[0m\u001b[0;34m'learning_rate'\u001b[0m\u001b[0;34m]\u001b[0m\u001b[0;34m,\u001b[0m \u001b[0mbest_params\u001b[0m\u001b[0;34m[\u001b[0m\u001b[0;34m'batch_size'\u001b[0m\u001b[0;34m]\u001b[0m\u001b[0;34m)\u001b[0m\u001b[0;34m\u001b[0m\u001b[0;34m\u001b[0m\u001b[0m\n\u001b[0m",
            "\u001b[0;32m<ipython-input-35-a43ceaefd97a>\u001b[0m in \u001b[0;36mtrain_test\u001b[0;34m(mode, num_epochs, hidden_sizes, learning_rate, batch_size)\u001b[0m\n\u001b[1;32m     15\u001b[0m             \u001b[0moutputs\u001b[0m \u001b[0;34m=\u001b[0m \u001b[0mmodel\u001b[0m\u001b[0;34m(\u001b[0m\u001b[0mbatch_X\u001b[0m\u001b[0;34m)\u001b[0m\u001b[0;34m\u001b[0m\u001b[0;34m\u001b[0m\u001b[0m\n\u001b[1;32m     16\u001b[0m             \u001b[0mloss\u001b[0m \u001b[0;34m=\u001b[0m \u001b[0mcriterion\u001b[0m\u001b[0;34m(\u001b[0m\u001b[0moutputs\u001b[0m\u001b[0;34m,\u001b[0m \u001b[0mbatch_y\u001b[0m\u001b[0;34m)\u001b[0m\u001b[0;34m\u001b[0m\u001b[0;34m\u001b[0m\u001b[0m\n\u001b[0;32m---> 17\u001b[0;31m             \u001b[0moptimizer\u001b[0m\u001b[0;34m.\u001b[0m\u001b[0mzero_grad\u001b[0m\u001b[0;34m(\u001b[0m\u001b[0;34m)\u001b[0m\u001b[0;34m\u001b[0m\u001b[0;34m\u001b[0m\u001b[0m\n\u001b[0m\u001b[1;32m     18\u001b[0m             \u001b[0mloss\u001b[0m\u001b[0;34m.\u001b[0m\u001b[0mbackward\u001b[0m\u001b[0;34m(\u001b[0m\u001b[0;34m)\u001b[0m\u001b[0;34m\u001b[0m\u001b[0;34m\u001b[0m\u001b[0m\n\u001b[1;32m     19\u001b[0m             \u001b[0moptimizer\u001b[0m\u001b[0;34m.\u001b[0m\u001b[0mstep\u001b[0m\u001b[0;34m(\u001b[0m\u001b[0;34m)\u001b[0m\u001b[0;34m\u001b[0m\u001b[0;34m\u001b[0m\u001b[0m\n",
            "\u001b[0;32m/usr/local/lib/python3.10/dist-packages/torch/_compile.py\u001b[0m in \u001b[0;36minner\u001b[0;34m(*args, **kwargs)\u001b[0m\n\u001b[1;32m     22\u001b[0m             \u001b[0;32mimport\u001b[0m \u001b[0mtorch\u001b[0m\u001b[0;34m.\u001b[0m\u001b[0m_dynamo\u001b[0m\u001b[0;34m\u001b[0m\u001b[0;34m\u001b[0m\u001b[0m\n\u001b[1;32m     23\u001b[0m \u001b[0;34m\u001b[0m\u001b[0m\n\u001b[0;32m---> 24\u001b[0;31m             \u001b[0;32mreturn\u001b[0m \u001b[0mtorch\u001b[0m\u001b[0;34m.\u001b[0m\u001b[0m_dynamo\u001b[0m\u001b[0;34m.\u001b[0m\u001b[0mdisable\u001b[0m\u001b[0;34m(\u001b[0m\u001b[0mfn\u001b[0m\u001b[0;34m,\u001b[0m \u001b[0mrecursive\u001b[0m\u001b[0;34m)\u001b[0m\u001b[0;34m(\u001b[0m\u001b[0;34m*\u001b[0m\u001b[0margs\u001b[0m\u001b[0;34m,\u001b[0m \u001b[0;34m**\u001b[0m\u001b[0mkwargs\u001b[0m\u001b[0;34m)\u001b[0m\u001b[0;34m\u001b[0m\u001b[0;34m\u001b[0m\u001b[0m\n\u001b[0m\u001b[1;32m     25\u001b[0m \u001b[0;34m\u001b[0m\u001b[0m\n\u001b[1;32m     26\u001b[0m         \u001b[0;32mreturn\u001b[0m \u001b[0minner\u001b[0m\u001b[0;34m\u001b[0m\u001b[0;34m\u001b[0m\u001b[0m\n",
            "\u001b[0;32m/usr/local/lib/python3.10/dist-packages/torch/_dynamo/decorators.py\u001b[0m in \u001b[0;36mdisable\u001b[0;34m(fn, recursive)\u001b[0m\n\u001b[1;32m     48\u001b[0m             \u001b[0mfn\u001b[0m \u001b[0;34m=\u001b[0m \u001b[0minnermost_fn\u001b[0m\u001b[0;34m(\u001b[0m\u001b[0mfn\u001b[0m\u001b[0;34m)\u001b[0m\u001b[0;34m\u001b[0m\u001b[0;34m\u001b[0m\u001b[0m\n\u001b[1;32m     49\u001b[0m             \u001b[0;32massert\u001b[0m \u001b[0mcallable\u001b[0m\u001b[0;34m(\u001b[0m\u001b[0mfn\u001b[0m\u001b[0;34m)\u001b[0m\u001b[0;34m\u001b[0m\u001b[0;34m\u001b[0m\u001b[0m\n\u001b[0;32m---> 50\u001b[0;31m             \u001b[0;32mreturn\u001b[0m \u001b[0mDisableContext\u001b[0m\u001b[0;34m(\u001b[0m\u001b[0;34m)\u001b[0m\u001b[0;34m(\u001b[0m\u001b[0mfn\u001b[0m\u001b[0;34m)\u001b[0m\u001b[0;34m\u001b[0m\u001b[0;34m\u001b[0m\u001b[0m\n\u001b[0m\u001b[1;32m     51\u001b[0m         \u001b[0;32mreturn\u001b[0m \u001b[0mDisableContext\u001b[0m\u001b[0;34m(\u001b[0m\u001b[0;34m)\u001b[0m\u001b[0;34m\u001b[0m\u001b[0;34m\u001b[0m\u001b[0m\n\u001b[1;32m     52\u001b[0m     \u001b[0;32melse\u001b[0m\u001b[0;34m:\u001b[0m\u001b[0;34m\u001b[0m\u001b[0;34m\u001b[0m\u001b[0m\n",
            "\u001b[0;32m/usr/local/lib/python3.10/dist-packages/torch/_dynamo/eval_frame.py\u001b[0m in \u001b[0;36m__call__\u001b[0;34m(self, fn)\u001b[0m\n\u001b[1;32m    408\u001b[0m             \u001b[0mfilename\u001b[0m \u001b[0;34m=\u001b[0m \u001b[0;32mNone\u001b[0m\u001b[0;34m\u001b[0m\u001b[0;34m\u001b[0m\u001b[0m\n\u001b[1;32m    409\u001b[0m         if (\n\u001b[0;32m--> 410\u001b[0;31m             \u001b[0;34m(\u001b[0m\u001b[0mfilename\u001b[0m \u001b[0;32mis\u001b[0m \u001b[0;32mNone\u001b[0m \u001b[0;32mor\u001b[0m \u001b[0mtrace_rules\u001b[0m\u001b[0;34m.\u001b[0m\u001b[0mcheck\u001b[0m\u001b[0;34m(\u001b[0m\u001b[0mfn\u001b[0m\u001b[0;34m)\u001b[0m\u001b[0;34m)\u001b[0m\u001b[0;34m\u001b[0m\u001b[0;34m\u001b[0m\u001b[0m\n\u001b[0m\u001b[1;32m    411\u001b[0m             and (\n\u001b[1;32m    412\u001b[0m                 \u001b[0mgetattr\u001b[0m\u001b[0;34m(\u001b[0m\u001b[0mfn\u001b[0m\u001b[0;34m,\u001b[0m \u001b[0;34m\"__name__\"\u001b[0m\u001b[0;34m,\u001b[0m \u001b[0;34m\"\"\u001b[0m\u001b[0;34m)\u001b[0m \u001b[0;32mnot\u001b[0m \u001b[0;32min\u001b[0m \u001b[0;34m[\u001b[0m\u001b[0;34m\"_call_impl\"\u001b[0m\u001b[0;34m,\u001b[0m \u001b[0;34m\"_wrapped_call_impl\"\u001b[0m\u001b[0;34m]\u001b[0m\u001b[0;34m\u001b[0m\u001b[0;34m\u001b[0m\u001b[0m\n",
            "\u001b[0;32m/usr/local/lib/python3.10/dist-packages/torch/_dynamo/trace_rules.py\u001b[0m in \u001b[0;36mcheck\u001b[0;34m(obj, is_inlined_call)\u001b[0m\n\u001b[1;32m   3376\u001b[0m \u001b[0;34m\u001b[0m\u001b[0m\n\u001b[1;32m   3377\u001b[0m \u001b[0;32mdef\u001b[0m \u001b[0mcheck\u001b[0m\u001b[0;34m(\u001b[0m\u001b[0mobj\u001b[0m\u001b[0;34m,\u001b[0m \u001b[0mis_inlined_call\u001b[0m\u001b[0;34m=\u001b[0m\u001b[0;32mFalse\u001b[0m\u001b[0;34m)\u001b[0m\u001b[0;34m:\u001b[0m\u001b[0;34m\u001b[0m\u001b[0;34m\u001b[0m\u001b[0m\n\u001b[0;32m-> 3378\u001b[0;31m     \u001b[0;32mreturn\u001b[0m \u001b[0mcheck_verbose\u001b[0m\u001b[0;34m(\u001b[0m\u001b[0mobj\u001b[0m\u001b[0;34m,\u001b[0m \u001b[0mis_inlined_call\u001b[0m\u001b[0;34m)\u001b[0m\u001b[0;34m.\u001b[0m\u001b[0mskipped\u001b[0m\u001b[0;34m\u001b[0m\u001b[0;34m\u001b[0m\u001b[0m\n\u001b[0m\u001b[1;32m   3379\u001b[0m \u001b[0;34m\u001b[0m\u001b[0m\n\u001b[1;32m   3380\u001b[0m \u001b[0;34m\u001b[0m\u001b[0m\n",
            "\u001b[0;32m/usr/local/lib/python3.10/dist-packages/torch/_dynamo/trace_rules.py\u001b[0m in \u001b[0;36mcheck_verbose\u001b[0;34m(obj, is_inlined_call)\u001b[0m\n\u001b[1;32m   3359\u001b[0m \u001b[0;34m\u001b[0m\u001b[0m\n\u001b[1;32m   3360\u001b[0m     \u001b[0;31m# Consulte the central trace rules defined in torch._dynamo.trace_rules.\u001b[0m\u001b[0;34m\u001b[0m\u001b[0;34m\u001b[0m\u001b[0m\n\u001b[0;32m-> 3361\u001b[0;31m     rule = torch._dynamo.trace_rules.lookup_inner(\n\u001b[0m\u001b[1;32m   3362\u001b[0m         \u001b[0mfi\u001b[0m\u001b[0;34m.\u001b[0m\u001b[0mpy_obj\u001b[0m\u001b[0;34m,\u001b[0m \u001b[0mfi\u001b[0m\u001b[0;34m.\u001b[0m\u001b[0mname\u001b[0m\u001b[0;34m,\u001b[0m \u001b[0mfi\u001b[0m\u001b[0;34m.\u001b[0m\u001b[0mfilename\u001b[0m\u001b[0;34m,\u001b[0m \u001b[0mis_inlined_call\u001b[0m\u001b[0;34m\u001b[0m\u001b[0;34m\u001b[0m\u001b[0m\n\u001b[1;32m   3363\u001b[0m     )\n",
            "\u001b[0;32m/usr/local/lib/python3.10/dist-packages/torch/_dynamo/trace_rules.py\u001b[0m in \u001b[0;36mlookup_inner\u001b[0;34m(obj, name, filename, is_direct_call)\u001b[0m\n\u001b[1;32m   3438\u001b[0m         \u001b[0;32mreturn\u001b[0m \u001b[0;32mNone\u001b[0m\u001b[0;34m\u001b[0m\u001b[0;34m\u001b[0m\u001b[0m\n\u001b[1;32m   3439\u001b[0m     \u001b[0;32mif\u001b[0m \u001b[0mobj\u001b[0m \u001b[0;32mis\u001b[0m \u001b[0;32mnot\u001b[0m \u001b[0;32mNone\u001b[0m\u001b[0;34m:\u001b[0m\u001b[0;34m\u001b[0m\u001b[0;34m\u001b[0m\u001b[0m\n\u001b[0;32m-> 3440\u001b[0;31m         \u001b[0;32mif\u001b[0m \u001b[0mis_aten_op_or_tensor_method\u001b[0m\u001b[0;34m(\u001b[0m\u001b[0mobj\u001b[0m\u001b[0;34m)\u001b[0m\u001b[0;34m:\u001b[0m\u001b[0;34m\u001b[0m\u001b[0;34m\u001b[0m\u001b[0m\n\u001b[0m\u001b[1;32m   3441\u001b[0m             \u001b[0;32mreturn\u001b[0m \u001b[0mTorchInGraphFunctionVariable\u001b[0m\u001b[0;34m\u001b[0m\u001b[0;34m\u001b[0m\u001b[0m\n\u001b[1;32m   3442\u001b[0m         \u001b[0mrule\u001b[0m \u001b[0;34m=\u001b[0m \u001b[0mget_torch_obj_rule_map\u001b[0m\u001b[0;34m(\u001b[0m\u001b[0;34m)\u001b[0m\u001b[0;34m.\u001b[0m\u001b[0mget\u001b[0m\u001b[0;34m(\u001b[0m\u001b[0mobj\u001b[0m\u001b[0;34m,\u001b[0m \u001b[0;32mNone\u001b[0m\u001b[0;34m)\u001b[0m\u001b[0;34m\u001b[0m\u001b[0;34m\u001b[0m\u001b[0m\n",
            "\u001b[0;32m/usr/local/lib/python3.10/dist-packages/torch/_dynamo/trace_rules.py\u001b[0m in \u001b[0;36mis_aten_op_or_tensor_method\u001b[0;34m(obj)\u001b[0m\n\u001b[1;32m   2839\u001b[0m \u001b[0;34m\u001b[0m\u001b[0m\n\u001b[1;32m   2840\u001b[0m \u001b[0;32mdef\u001b[0m \u001b[0mis_aten_op_or_tensor_method\u001b[0m\u001b[0;34m(\u001b[0m\u001b[0mobj\u001b[0m\u001b[0;34m)\u001b[0m\u001b[0;34m:\u001b[0m\u001b[0;34m\u001b[0m\u001b[0;34m\u001b[0m\u001b[0m\n\u001b[0;32m-> 2841\u001b[0;31m     return obj in get_tensor_method() or isinstance(\n\u001b[0m\u001b[1;32m   2842\u001b[0m         \u001b[0mobj\u001b[0m\u001b[0;34m,\u001b[0m\u001b[0;34m\u001b[0m\u001b[0;34m\u001b[0m\u001b[0m\n\u001b[1;32m   2843\u001b[0m         \u001b[0;34m(\u001b[0m\u001b[0mtorch\u001b[0m\u001b[0;34m.\u001b[0m\u001b[0m_ops\u001b[0m\u001b[0;34m.\u001b[0m\u001b[0mOpOverloadPacket\u001b[0m\u001b[0;34m,\u001b[0m \u001b[0mtorch\u001b[0m\u001b[0;34m.\u001b[0m\u001b[0m_ops\u001b[0m\u001b[0;34m.\u001b[0m\u001b[0mOpOverload\u001b[0m\u001b[0;34m)\u001b[0m\u001b[0;34m,\u001b[0m\u001b[0;34m\u001b[0m\u001b[0;34m\u001b[0m\u001b[0m\n",
            "\u001b[0;31mKeyboardInterrupt\u001b[0m: "
          ]
        }
      ]
    },
    {
      "cell_type": "markdown",
      "source": [
        "## 3-4 Test"
      ],
      "metadata": {
        "id": "wSBZi6AvBXQW"
      }
    },
    {
      "cell_type": "code",
      "execution_count": 36,
      "metadata": {
        "colab": {
          "base_uri": "https://localhost:8080/"
        },
        "id": "83-9AKe1rvk9",
        "outputId": "d9138ad0-5bfa-470c-c53d-7bc4d85ba748"
      },
      "outputs": [
        {
          "output_type": "stream",
          "name": "stdout",
          "text": [
            "Top 10% threshold: 93.3584\n",
            "Number of samples in top 10%: [499]\n"
          ]
        }
      ],
      "source": [
        "# 상위 10% 임계값 계산\n",
        "threshold = np.percentile(test_pred, 90)\n",
        "top_10_percent_mask = test_pred >= threshold\n",
        "\n",
        "# 제출 파일 생성\n",
        "submission_df = pd.read_csv(submission_csv_path)\n",
        "submission_df['y'] = test_pred\n",
        "submission_df.to_csv(f'{mode}_{method}_epoch{num_epochs}.csv', index=False)\n",
        "\n",
        "# 결과 저장\n",
        "log_file_path = 'TOP10_threshold.txt'\n",
        "with open(log_file_path, 'w') as log_file:\n",
        "    log_file.write(f\"Top 10% threshold: {threshold:.4f}\\n\")\n",
        "\n",
        "# 결과 출력\n",
        "print(f\"Top 10% threshold: {threshold:.4f}\")\n",
        "print(f\"Number of samples in top 10%: {sum(top_10_percent_mask)}\")\n",
        "\n"
      ]
    },
    {
      "cell_type": "markdown",
      "source": [
        "# Threshold 가장 높은 값 Test [main]"
      ],
      "metadata": {
        "id": "ShZC-wGDF0aK"
      }
    },
    {
      "cell_type": "markdown",
      "source": [
        "가장 높은 값의 Threshold 를 가지는 Test 결과를 얻을 수 있지만 조금 더 오래걸림.\n",
        "매 epoch 마다 test 진행"
      ],
      "metadata": {
        "id": "4Fy6V7TOGGMN"
      }
    },
    {
      "cell_type": "code",
      "source": [
        "# params 파일로 불러오거나 하이퍼파라미터 최적화 수행 안했을 때만 실행\n",
        "\n",
        "params_path = \"/content/5_layer_MLP_params.json\"\n",
        "best_params = json.load(open(params_path, 'r'))"
      ],
      "metadata": {
        "id": "6PTAlIJJF7nx"
      },
      "execution_count": 23,
      "outputs": []
    },
    {
      "cell_type": "code",
      "source": [
        "best_params"
      ],
      "metadata": {
        "colab": {
          "base_uri": "https://localhost:8080/"
        },
        "id": "2Ii6gjj0K68R",
        "outputId": "a31d9632-5e3b-4866-a8ff-4a21ae23fa0a"
      },
      "execution_count": 24,
      "outputs": [
        {
          "output_type": "execute_result",
          "data": {
            "text/plain": [
              "{'batch_size': 32,\n",
              " 'hidden_sizes': [32, 64, 64, 32, 16],\n",
              " 'learning_rate': 0.001}"
            ]
          },
          "metadata": {},
          "execution_count": 24
        }
      ]
    },
    {
      "cell_type": "code",
      "source": [
        "# 위에서 정의했으면 안해도 됨\n",
        "mode = 'MLP5Hidden' # 사용할 모델 class 이름 : [모델 정의 참조]\n",
        "method = \"GS\" # 사용할 모델 하이퍼파라미터 최적화 알고리즘 이름"
      ],
      "metadata": {
        "id": "VcfXOuxcKjVv"
      },
      "execution_count": 25,
      "outputs": []
    },
    {
      "cell_type": "code",
      "source": [
        "def train_dataloader(train_csv_path):\n",
        "    train_data = pd.read_csv(train_csv_path)\n",
        "\n",
        "    X_train = train_data.iloc[:,1:-1].values\n",
        "    y_train = train_data.iloc[:,-1].values\n",
        "\n",
        "    X_train = torch.tensor(X_train, dtype = torch.float32)\n",
        "    y_train = torch.tensor(y_train, dtype = torch.float32).view(-1,1)\n",
        "\n",
        "    train_dataset = TensorDataset(X_train, y_train)\n",
        "\n",
        "    return train_dataset\n",
        "\n",
        "def test_dataloader(test_csv_path):\n",
        "    test_data = pd.read_csv(test_csv_path)\n",
        "\n",
        "    X_test = pd.read_csv(test_csv_path).iloc[:,1:].values\n",
        "    X_test = torch.tensor(X_test, dtype = torch.float32)\n",
        "\n",
        "    test_dataset = TensorDataset(X_test)\n",
        "\n",
        "    return test_dataset\n",
        "\n",
        "train_dataset = train_dataloader(train_csv_path)\n",
        "test_dataset = test_dataloader(test_csv_path)"
      ],
      "metadata": {
        "id": "FCcGtueqGZP4"
      },
      "execution_count": 26,
      "outputs": []
    },
    {
      "cell_type": "code",
      "source": [
        "def get_max_test(mode, num_epochs, hidden_sizes, learning_rate, batch_size):\n",
        "\n",
        "    loss_file_path = 'train_loss.txt'\n",
        "    threshold_file_path = 'threshold.txt'\n",
        "    loss_log = open(loss_file_path, 'w')\n",
        "    threshold_log = open(threshold_file_path, 'w')\n",
        "\n",
        "    model = mode_model(mode, hidden_sizes).cuda()\n",
        "    criterion = nn.MSELoss().cuda()\n",
        "    optimizer = optim.Adam(model.parameters(), lr=learning_rate)\n",
        "\n",
        "    train_loader = DataLoader(train_dataset, batch_size=batch_size, shuffle=True)\n",
        "    test_loader = DataLoader(test_dataset, batch_size=batch_size, shuffle=False)\n",
        "\n",
        "    max_threshold = 0.0\n",
        "    best_epoch = 0\n",
        "    best_pred = None\n",
        "    for epoch in range(num_epochs):\n",
        "        model.train()\n",
        "        train_loss = 0.0\n",
        "        for batch_X, batch_y in train_loader:\n",
        "            batch_X, batch_y = batch_X.cuda(), batch_y.cuda()\n",
        "            outputs = model(batch_X)\n",
        "            loss = criterion(outputs, batch_y)\n",
        "            optimizer.zero_grad()\n",
        "            loss.backward()\n",
        "            optimizer.step()\n",
        "\n",
        "            train_loss += loss.item()\n",
        "\n",
        "\n",
        "        train_loss = train_loss / len(train_loader)\n",
        "        print(f'Epoch {epoch+1}/{num_epochs}, Train Loss: {train_loss:.4f}')\n",
        "        loss_log.write(f'Epoch {epoch+1}/{num_epochs}, Train Loss: {train_loss:.4f}\\n')\n",
        "\n",
        "\n",
        "        model.eval()\n",
        "        test_pred = []\n",
        "        with torch.no_grad():\n",
        "            for batch in test_loader:\n",
        "                batch_X = batch[0].cuda()\n",
        "                outputs = model(batch_X)\n",
        "                test_pred.extend(outputs.cpu().numpy())\n",
        "\n",
        "        test_pred = np.array(test_pred)\n",
        "        threshold = np.percentile(test_pred, 90)\n",
        "        print(f\"Epoch {epoch+1}/{num_epochs}, Top 10% threshold: {threshold:.4f}\")\n",
        "        threshold_log.write(f\"Epoch {epoch+1}/{num_epochs}, Top 10% threshold: {threshold:.4f}\\n\")\n",
        "\n",
        "        if threshold > max_threshold:\n",
        "            max_threshold = threshold\n",
        "            best_epoch = epoch+1\n",
        "            best_pred = test_pred\n",
        "\n",
        "    loss_log.close()\n",
        "    threshold_log.close()\n",
        "    return best_pred, best_epoch\n",
        "\n",
        "num_epochs = 100\n",
        "test_pred, best_epoch = get_max_test(mode, num_epochs, best_params['hidden_sizes'], best_params['learning_rate'], best_params['batch_size'])"
      ],
      "metadata": {
        "colab": {
          "base_uri": "https://localhost:8080/"
        },
        "id": "27_SFOneGbvJ",
        "outputId": "64c4e41f-d464-4540-bc58-ddf4c646cbd3"
      },
      "execution_count": 31,
      "outputs": [
        {
          "output_type": "stream",
          "name": "stdout",
          "text": [
            "Epoch 1/100, Train Loss: 398.9188\n",
            "Epoch 1/100, Top 10% threshold: 85.2889\n",
            "Epoch 2/100, Train Loss: 3.7590\n",
            "Epoch 2/100, Top 10% threshold: 90.9706\n",
            "Epoch 3/100, Train Loss: 3.2633\n",
            "Epoch 3/100, Top 10% threshold: 91.8073\n",
            "Epoch 4/100, Train Loss: 3.1859\n",
            "Epoch 4/100, Top 10% threshold: 92.6416\n",
            "Epoch 5/100, Train Loss: 3.1796\n",
            "Epoch 5/100, Top 10% threshold: 92.1233\n",
            "Epoch 6/100, Train Loss: 3.1935\n",
            "Epoch 6/100, Top 10% threshold: 91.6764\n",
            "Epoch 7/100, Train Loss: 3.2048\n",
            "Epoch 7/100, Top 10% threshold: 92.2082\n",
            "Epoch 8/100, Train Loss: 3.1726\n",
            "Epoch 8/100, Top 10% threshold: 92.1651\n",
            "Epoch 9/100, Train Loss: 3.1943\n",
            "Epoch 9/100, Top 10% threshold: 92.1772\n",
            "Epoch 10/100, Train Loss: 3.1338\n",
            "Epoch 10/100, Top 10% threshold: 92.0406\n",
            "Epoch 11/100, Train Loss: 3.1512\n",
            "Epoch 11/100, Top 10% threshold: 92.5158\n",
            "Epoch 12/100, Train Loss: 3.1747\n",
            "Epoch 12/100, Top 10% threshold: 91.8615\n",
            "Epoch 13/100, Train Loss: 3.1610\n",
            "Epoch 13/100, Top 10% threshold: 92.1453\n",
            "Epoch 14/100, Train Loss: 3.1196\n",
            "Epoch 14/100, Top 10% threshold: 92.1803\n",
            "Epoch 15/100, Train Loss: 3.1543\n",
            "Epoch 15/100, Top 10% threshold: 92.4156\n",
            "Epoch 16/100, Train Loss: 3.1245\n",
            "Epoch 16/100, Top 10% threshold: 92.5795\n",
            "Epoch 17/100, Train Loss: 3.1736\n",
            "Epoch 17/100, Top 10% threshold: 92.2834\n",
            "Epoch 18/100, Train Loss: 3.1783\n",
            "Epoch 18/100, Top 10% threshold: 91.6801\n",
            "Epoch 19/100, Train Loss: 3.1455\n",
            "Epoch 19/100, Top 10% threshold: 91.8297\n",
            "Epoch 20/100, Train Loss: 3.1353\n",
            "Epoch 20/100, Top 10% threshold: 92.5519\n",
            "Epoch 21/100, Train Loss: 3.0932\n",
            "Epoch 21/100, Top 10% threshold: 91.9255\n",
            "Epoch 22/100, Train Loss: 3.1523\n",
            "Epoch 22/100, Top 10% threshold: 91.8606\n",
            "Epoch 23/100, Train Loss: 3.1122\n",
            "Epoch 23/100, Top 10% threshold: 92.7180\n",
            "Epoch 24/100, Train Loss: 3.1199\n",
            "Epoch 24/100, Top 10% threshold: 91.3485\n",
            "Epoch 25/100, Train Loss: 3.0714\n",
            "Epoch 25/100, Top 10% threshold: 92.6054\n",
            "Epoch 26/100, Train Loss: 3.1361\n",
            "Epoch 26/100, Top 10% threshold: 91.6550\n",
            "Epoch 27/100, Train Loss: 3.1081\n",
            "Epoch 27/100, Top 10% threshold: 92.7513\n",
            "Epoch 28/100, Train Loss: 3.0575\n",
            "Epoch 28/100, Top 10% threshold: 91.5958\n",
            "Epoch 29/100, Train Loss: 3.0505\n",
            "Epoch 29/100, Top 10% threshold: 91.2691\n",
            "Epoch 30/100, Train Loss: 3.1687\n",
            "Epoch 30/100, Top 10% threshold: 92.1604\n",
            "Epoch 31/100, Train Loss: 3.1198\n",
            "Epoch 31/100, Top 10% threshold: 92.6127\n",
            "Epoch 32/100, Train Loss: 3.0933\n",
            "Epoch 32/100, Top 10% threshold: 91.5884\n",
            "Epoch 33/100, Train Loss: 3.0728\n",
            "Epoch 33/100, Top 10% threshold: 92.2350\n",
            "Epoch 34/100, Train Loss: 3.1389\n",
            "Epoch 34/100, Top 10% threshold: 91.8429\n",
            "Epoch 35/100, Train Loss: 3.0903\n",
            "Epoch 35/100, Top 10% threshold: 92.3260\n",
            "Epoch 36/100, Train Loss: 3.1033\n",
            "Epoch 36/100, Top 10% threshold: 91.2504\n",
            "Epoch 37/100, Train Loss: 3.1061\n",
            "Epoch 37/100, Top 10% threshold: 91.6593\n",
            "Epoch 38/100, Train Loss: 3.0850\n",
            "Epoch 38/100, Top 10% threshold: 92.3895\n",
            "Epoch 39/100, Train Loss: 3.0589\n",
            "Epoch 39/100, Top 10% threshold: 91.6603\n",
            "Epoch 40/100, Train Loss: 3.0997\n",
            "Epoch 40/100, Top 10% threshold: 92.8975\n",
            "Epoch 41/100, Train Loss: 3.1478\n",
            "Epoch 41/100, Top 10% threshold: 91.5567\n",
            "Epoch 42/100, Train Loss: 3.0963\n",
            "Epoch 42/100, Top 10% threshold: 91.0834\n",
            "Epoch 43/100, Train Loss: 3.0558\n",
            "Epoch 43/100, Top 10% threshold: 92.3783\n",
            "Epoch 44/100, Train Loss: 3.1431\n",
            "Epoch 44/100, Top 10% threshold: 92.3326\n",
            "Epoch 45/100, Train Loss: 3.1010\n",
            "Epoch 45/100, Top 10% threshold: 92.2794\n",
            "Epoch 46/100, Train Loss: 3.1003\n",
            "Epoch 46/100, Top 10% threshold: 91.4964\n",
            "Epoch 47/100, Train Loss: 3.0595\n",
            "Epoch 47/100, Top 10% threshold: 92.1290\n",
            "Epoch 48/100, Train Loss: 3.0617\n",
            "Epoch 48/100, Top 10% threshold: 91.2630\n",
            "Epoch 49/100, Train Loss: 3.0958\n",
            "Epoch 49/100, Top 10% threshold: 92.4745\n",
            "Epoch 50/100, Train Loss: 3.0604\n",
            "Epoch 50/100, Top 10% threshold: 91.4298\n",
            "Epoch 51/100, Train Loss: 3.0992\n",
            "Epoch 51/100, Top 10% threshold: 92.1161\n",
            "Epoch 52/100, Train Loss: 3.0933\n",
            "Epoch 52/100, Top 10% threshold: 91.7251\n",
            "Epoch 53/100, Train Loss: 3.1149\n",
            "Epoch 53/100, Top 10% threshold: 91.6167\n",
            "Epoch 54/100, Train Loss: 3.1076\n",
            "Epoch 54/100, Top 10% threshold: 92.2741\n",
            "Epoch 55/100, Train Loss: 3.0821\n",
            "Epoch 55/100, Top 10% threshold: 92.3278\n",
            "Epoch 56/100, Train Loss: 3.0549\n",
            "Epoch 56/100, Top 10% threshold: 91.0216\n",
            "Epoch 57/100, Train Loss: 3.0618\n",
            "Epoch 57/100, Top 10% threshold: 92.6304\n",
            "Epoch 58/100, Train Loss: 3.0874\n",
            "Epoch 58/100, Top 10% threshold: 91.1635\n",
            "Epoch 59/100, Train Loss: 3.0870\n",
            "Epoch 59/100, Top 10% threshold: 91.9231\n",
            "Epoch 60/100, Train Loss: 3.0881\n",
            "Epoch 60/100, Top 10% threshold: 91.4201\n",
            "Epoch 61/100, Train Loss: 3.0990\n",
            "Epoch 61/100, Top 10% threshold: 92.8536\n",
            "Epoch 62/100, Train Loss: 3.0707\n",
            "Epoch 62/100, Top 10% threshold: 91.8264\n",
            "Epoch 63/100, Train Loss: 3.0656\n",
            "Epoch 63/100, Top 10% threshold: 91.9596\n",
            "Epoch 64/100, Train Loss: 3.1048\n",
            "Epoch 64/100, Top 10% threshold: 90.9063\n",
            "Epoch 65/100, Train Loss: 3.1200\n",
            "Epoch 65/100, Top 10% threshold: 91.9011\n",
            "Epoch 66/100, Train Loss: 3.0447\n",
            "Epoch 66/100, Top 10% threshold: 93.3584\n",
            "Epoch 67/100, Train Loss: 3.0756\n",
            "Epoch 67/100, Top 10% threshold: 91.1713\n",
            "Epoch 68/100, Train Loss: 3.0721\n",
            "Epoch 68/100, Top 10% threshold: 92.7805\n",
            "Epoch 69/100, Train Loss: 3.0699\n",
            "Epoch 69/100, Top 10% threshold: 92.6470\n",
            "Epoch 70/100, Train Loss: 3.0808\n",
            "Epoch 70/100, Top 10% threshold: 90.9018\n",
            "Epoch 71/100, Train Loss: 3.0738\n",
            "Epoch 71/100, Top 10% threshold: 90.7484\n",
            "Epoch 72/100, Train Loss: 3.0418\n",
            "Epoch 72/100, Top 10% threshold: 92.1919\n",
            "Epoch 73/100, Train Loss: 3.0834\n",
            "Epoch 73/100, Top 10% threshold: 90.7459\n",
            "Epoch 74/100, Train Loss: 3.0196\n",
            "Epoch 74/100, Top 10% threshold: 92.9288\n",
            "Epoch 75/100, Train Loss: 3.0819\n",
            "Epoch 75/100, Top 10% threshold: 91.9677\n",
            "Epoch 76/100, Train Loss: 3.0453\n",
            "Epoch 76/100, Top 10% threshold: 91.7940\n",
            "Epoch 77/100, Train Loss: 3.0612\n",
            "Epoch 77/100, Top 10% threshold: 91.4165\n",
            "Epoch 78/100, Train Loss: 3.0533\n",
            "Epoch 78/100, Top 10% threshold: 91.2254\n",
            "Epoch 79/100, Train Loss: 3.0831\n",
            "Epoch 79/100, Top 10% threshold: 92.9913\n",
            "Epoch 80/100, Train Loss: 3.0614\n",
            "Epoch 80/100, Top 10% threshold: 92.1018\n",
            "Epoch 81/100, Train Loss: 3.0607\n",
            "Epoch 81/100, Top 10% threshold: 92.6926\n",
            "Epoch 82/100, Train Loss: 3.0538\n",
            "Epoch 82/100, Top 10% threshold: 92.4871\n",
            "Epoch 83/100, Train Loss: 3.0548\n",
            "Epoch 83/100, Top 10% threshold: 92.0628\n",
            "Epoch 84/100, Train Loss: 3.0800\n",
            "Epoch 84/100, Top 10% threshold: 92.3913\n",
            "Epoch 85/100, Train Loss: 3.0590\n",
            "Epoch 85/100, Top 10% threshold: 91.4949\n",
            "Epoch 86/100, Train Loss: 3.0713\n",
            "Epoch 86/100, Top 10% threshold: 91.7740\n",
            "Epoch 87/100, Train Loss: 3.0814\n",
            "Epoch 87/100, Top 10% threshold: 91.7495\n",
            "Epoch 88/100, Train Loss: 3.0815\n",
            "Epoch 88/100, Top 10% threshold: 92.4823\n",
            "Epoch 89/100, Train Loss: 3.0418\n",
            "Epoch 89/100, Top 10% threshold: 92.8595\n",
            "Epoch 90/100, Train Loss: 3.0584\n",
            "Epoch 90/100, Top 10% threshold: 92.1831\n",
            "Epoch 91/100, Train Loss: 3.0656\n",
            "Epoch 91/100, Top 10% threshold: 92.0502\n",
            "Epoch 92/100, Train Loss: 3.0422\n",
            "Epoch 92/100, Top 10% threshold: 92.0483\n",
            "Epoch 93/100, Train Loss: 3.0922\n",
            "Epoch 93/100, Top 10% threshold: 91.1140\n",
            "Epoch 94/100, Train Loss: 3.0414\n",
            "Epoch 94/100, Top 10% threshold: 91.7383\n",
            "Epoch 95/100, Train Loss: 3.0505\n",
            "Epoch 95/100, Top 10% threshold: 92.1037\n",
            "Epoch 96/100, Train Loss: 3.0669\n",
            "Epoch 96/100, Top 10% threshold: 91.9932\n",
            "Epoch 97/100, Train Loss: 3.0396\n",
            "Epoch 97/100, Top 10% threshold: 91.9977\n",
            "Epoch 98/100, Train Loss: 3.0789\n",
            "Epoch 98/100, Top 10% threshold: 91.8709\n",
            "Epoch 99/100, Train Loss: 3.0516\n",
            "Epoch 99/100, Top 10% threshold: 92.4301\n",
            "Epoch 100/100, Train Loss: 3.0739\n",
            "Epoch 100/100, Top 10% threshold: 92.4270\n"
          ]
        }
      ]
    },
    {
      "cell_type": "code",
      "source": [
        "# 상위 10% 임계값 계산\n",
        "threshold = np.percentile(test_pred, 90)\n",
        "top_10_percent_mask = test_pred >= threshold\n",
        "\n",
        "# 제출 파일 생성\n",
        "submission_df = pd.read_csv(submission_csv_path)\n",
        "submission_df['y'] = test_pred\n",
        "submission_df.to_csv(f'{mode}_{method}_epoch{best_epoch}.csv', index=False)\n",
        "\n",
        "# 결과 출력\n",
        "print(f\"Top 10% threshold: {threshold:.4f}\")\n",
        "print(f\"Number of samples in top 10%: {sum(top_10_percent_mask)}\")"
      ],
      "metadata": {
        "colab": {
          "base_uri": "https://localhost:8080/"
        },
        "id": "bHAQkQHlKBdK",
        "outputId": "9cb3e527-ed39-4987-9768-ac6c6e115887"
      },
      "execution_count": 32,
      "outputs": [
        {
          "output_type": "stream",
          "name": "stdout",
          "text": [
            "Top 10% threshold: 93.3584\n",
            "Number of samples in top 10%: [499]\n"
          ]
        }
      ]
    }
  ],
  "metadata": {
    "accelerator": "GPU",
    "colab": {
      "gpuType": "T4",
      "provenance": []
    },
    "kernelspec": {
      "display_name": "Python 3",
      "name": "python3"
    },
    "language_info": {
      "codemirror_mode": {
        "name": "ipython",
        "version": 3
      },
      "file_extension": ".py",
      "mimetype": "text/x-python",
      "name": "python",
      "nbconvert_exporter": "python",
      "pygments_lexer": "ipython3",
      "version": "3.8.18"
    }
  },
  "nbformat": 4,
  "nbformat_minor": 0
}