{
  "nbformat": 4,
  "nbformat_minor": 0,
  "metadata": {
    "colab": {
      "provenance": [],
      "gpuType": "T4",
      "include_colab_link": true
    },
    "kernelspec": {
      "name": "python3",
      "display_name": "Python 3"
    },
    "language_info": {
      "name": "python"
    },
    "accelerator": "GPU"
  },
  "cells": [
    {
      "cell_type": "markdown",
      "metadata": {
        "id": "view-in-github",
        "colab_type": "text"
      },
      "source": [
        "<a href=\"https://colab.research.google.com/github/Batwan01/2024-Challenge/blob/main/best_model/MLP%2BData_drop/MLP5%2BPReLU_drop.ipynb\" target=\"_parent\"><img src=\"https://colab.research.google.com/assets/colab-badge.svg\" alt=\"Open In Colab\"/></a>"
      ]
    },
    {
      "cell_type": "code",
      "execution_count": 2,
      "metadata": {
        "id": "NsGqzDFbEqNQ",
        "outputId": "79ebf16d-40fa-496b-94b9-8be370c5229e",
        "colab": {
          "base_uri": "https://localhost:8080/"
        }
      },
      "outputs": [
        {
          "output_type": "stream",
          "name": "stdout",
          "text": [
            "Mounted at /content/drive\n"
          ]
        }
      ],
      "source": [
        "import torch\n",
        "import torch.nn as nn\n",
        "import torch.optim as optim\n",
        "import matplotlib.pyplot as plt\n",
        "import json\n",
        "import numpy as np\n",
        "import random\n",
        "import pandas as pd\n",
        "import torch.nn.init as init\n",
        "\n",
        "from sklearn.model_selection import train_test_split\n",
        "from torch.utils.data import DataLoader, TensorDataset\n",
        "from sklearn.model_selection import ParameterGrid\n",
        "from google.colab import drive\n",
        "\n",
        "drive.mount('/content/drive')\n",
        "\n",
        "# 재현 가능성을 위한 시드 고정\n",
        "RANDOM_SEED = 18\n",
        "torch.manual_seed(RANDOM_SEED)\n",
        "torch.cuda.manual_seed(RANDOM_SEED)\n",
        "np.random.seed(RANDOM_SEED)\n",
        "random.seed(RANDOM_SEED)\n",
        "torch.backends.cudnn.deterministic = True\n",
        "torch.backends.cudnn.benchmark = False"
      ]
    },
    {
      "cell_type": "code",
      "source": [
        "# 데이터 경로 설정\n",
        "train_csv_path = \"/content/drive/MyDrive/Colab Notebooks/contest/samsung/train.csv\"\n",
        "test_csv_path = \"/content/drive/MyDrive/Colab Notebooks/contest/samsung/test.csv\"\n",
        "submission_csv_path = '/content/drive/MyDrive/Colab Notebooks/contest/samsung/sample_submission.csv'"
      ],
      "metadata": {
        "id": "ArIgs84poaLI"
      },
      "execution_count": 3,
      "outputs": []
    },
    {
      "cell_type": "code",
      "source": [
        "train = pd.read_csv(train_csv_path)\n",
        "test = pd.read_csv(test_csv_path)\n",
        "com = pd.concat([train,test])\n",
        "com = com.drop(['x_2', 'x_6'], axis=1)\n",
        "train_data = com[:40118]\n",
        "X_test = com[40118:]\n",
        "X_test = X_test.drop('y',axis=1).iloc[:,1:]\n",
        "\n",
        "print(X_test.shape)"
      ],
      "metadata": {
        "id": "xZHB3iTbE_H9",
        "outputId": "08b13570-7964-4578-b6fc-6fe9ca9d364c",
        "colab": {
          "base_uri": "https://localhost:8080/"
        }
      },
      "execution_count": 4,
      "outputs": [
        {
          "output_type": "stream",
          "name": "stdout",
          "text": [
            "(4986, 9)\n"
          ]
        }
      ]
    },
    {
      "cell_type": "code",
      "source": [
        "# 잔차 연결\n",
        "class ResidualMLP(nn.Module):\n",
        "    def __init__(self, input_size=9, hidden_sizes=[32, 64, 64, 32, 16], output_size=1):\n",
        "        super(ResidualMLP, self).__init__()\n",
        "\n",
        "        # 6개의 MLP 레이어 정의\n",
        "        self.fc1 = nn.Linear(input_size, hidden_sizes[0])\n",
        "        self.prelu1 = nn.PReLU()\n",
        "\n",
        "        self.fc2 = nn.Linear(hidden_sizes[0], hidden_sizes[1])\n",
        "        self.prelu2 = nn.PReLU()\n",
        "\n",
        "        self.fc3 = nn.Linear(hidden_sizes[1], hidden_sizes[2])\n",
        "        self.prelu3 = nn.PReLU()\n",
        "\n",
        "        self.fc4 = nn.Linear(hidden_sizes[2], hidden_sizes[3])\n",
        "        self.prelu4 = nn.PReLU()\n",
        "\n",
        "        self.fc5 = nn.Linear(hidden_sizes[3], hidden_sizes[4])\n",
        "        self.prelu5 = nn.PReLU()\n",
        "\n",
        "        self.fc6 = nn.Linear(hidden_sizes[4], output_size)\n",
        "        self.prelu6 = nn.PReLU()\n",
        "\n",
        "        # 1x1 Linear 레이어로 Residual Connection의 크기 맞추기\n",
        "        self.residual1 = nn.Linear(hidden_sizes[0], hidden_sizes[2])  # fc1 -> fc3\n",
        "        self.residual2 = nn.Linear(hidden_sizes[2], hidden_sizes[4])  # fc3 -> fc5\n",
        "\n",
        "    def forward(self, x):\n",
        "        # 첫 번째 MLP 레이어\n",
        "        out = self.prelu1(self.fc1(x))\n",
        "\n",
        "        # 첫 번째 Residual 연결 (fc1 -> fc2 -> fc3)\n",
        "        residual = self.residual1(out)  # 크기 맞추기\n",
        "        out = self.prelu2(self.fc2(out))\n",
        "        out = self.prelu3(self.fc3(out))\n",
        "        out += residual  # 첫 번째 Residual Connection\n",
        "\n",
        "        # 두 번째 Residual 연결 (fc3 -> fc4 -> fc5)\n",
        "        residual = self.residual2(out)  # 크기 맞추기\n",
        "        out = self.prelu4(self.fc4(out))\n",
        "        out = self.prelu5(self.fc5(out))\n",
        "        out += residual  # 두 번째 Residual Connection\n",
        "\n",
        "        # 최종 출력 레이어 (fc6) 및 PReLU 적용\n",
        "        out = self.prelu6(self.fc6(out))  # 최종 레이어에도 PReLU 적용\n",
        "\n",
        "        return out"
      ],
      "metadata": {
        "id": "8N5kdRfjFDiC"
      },
      "execution_count": null,
      "outputs": []
    },
    {
      "cell_type": "code",
      "source": [
        "# 훈련 데이터를 훈련 + 검증 데이터로 나누고 train_dataset, val_dataset 을 반환하는 함수:\n",
        "\n",
        "X = torch.tensor(train_data.drop(['ID','y'],axis=1).values, dtype=torch.float32)\n",
        "y = torch.tensor(train_data['y'].values, dtype = torch.float32).view(-1,1)\n",
        "\n",
        "X_train, X_val, y_train, y_val = train_test_split(X, y, test_size=0.2, random_state=RANDOM_SEED)\n",
        "\n",
        "train_dataset = TensorDataset(X_train, y_train)\n",
        "val_dataset = TensorDataset(X_val, y_val)"
      ],
      "metadata": {
        "id": "_Zb8pGXgFHVx"
      },
      "execution_count": null,
      "outputs": []
    },
    {
      "cell_type": "code",
      "source": [
        "# model = MLP5Hidden()\n",
        "model = ResidualMLP()\n",
        "# model = ResidualMLP7()\n",
        "\n",
        "model.cuda()\n",
        "criterion = nn.MSELoss().cuda()\n",
        "optimizer = optim.Adam(model.parameters(), lr=0.001)\n",
        "\n",
        "\n",
        "generator = torch.Generator()\n",
        "generator.manual_seed(RANDOM_SEED)\n",
        "\n",
        "def worker_init_fn(worker_id):\n",
        "    worker_seed = torch.initial_seed() % 2**32\n",
        "    np.random.seed(worker_seed)\n",
        "    random.seed(worker_seed)\n",
        "\n",
        "train_loader = DataLoader(train_dataset, batch_size=32, shuffle=True, worker_init_fn = worker_init_fn)\n",
        "val_loader = DataLoader(val_dataset, batch_size=32, shuffle=False, worker_init_fn = worker_init_fn)\n",
        "\n",
        "train_losses = []\n",
        "val_losses = []\n",
        "\n",
        "for epoch in range(70):\n",
        "    model.train()\n",
        "    train_loss = 0\n",
        "    for batch_X, batch_y in train_loader:\n",
        "        batch_X, batch_y = batch_X.cuda(), batch_y.cuda()\n",
        "        outputs = model(batch_X)\n",
        "        loss = criterion(outputs, batch_y)\n",
        "        optimizer.zero_grad()\n",
        "        loss.backward()\n",
        "        optimizer.step()\n",
        "        train_loss += loss.item()\n",
        "\n",
        "    train_loss = train_loss / len(train_loader)\n",
        "    train_losses.append(train_loss)\n",
        "\n",
        "\n",
        "    model.eval()\n",
        "    val_loss = 0\n",
        "    with torch.no_grad():\n",
        "        for batch_X, batch_y in val_loader:\n",
        "            batch_X, batch_y = batch_X.cuda(), batch_y.cuda()\n",
        "            outputs = model(batch_X)\n",
        "            loss = criterion(outputs, batch_y)\n",
        "            val_loss += loss.item()\n",
        "\n",
        "    val_loss = val_loss / len(val_loader)\n",
        "    val_losses.append(val_loss)\n",
        "\n",
        "    print(f'Epoch {epoch+1}/300, Train Loss: {train_loss:.4f}, Validation Loss: {val_loss:.4f}')"
      ],
      "metadata": {
        "id": "IF57zFryFLXi",
        "outputId": "222331f6-b966-42ca-8b03-15ae11554f70",
        "colab": {
          "base_uri": "https://localhost:8080/"
        }
      },
      "execution_count": null,
      "outputs": [
        {
          "output_type": "stream",
          "name": "stdout",
          "text": [
            "Epoch 1/300, Train Loss: 260.8624, Validation Loss: 3.5373\n",
            "Epoch 2/300, Train Loss: 3.1672, Validation Loss: 3.7499\n",
            "Epoch 3/300, Train Loss: 3.2385, Validation Loss: 3.7660\n"
          ]
        }
      ]
    },
    {
      "cell_type": "code",
      "source": [
        "X_test_tensor = torch.tensor(X_test.values, dtype=torch.float32)\n",
        "\n",
        "test_dataset = TensorDataset(X_test_tensor)\n",
        "test_loader = DataLoader(test_dataset, batch_size=32, shuffle=False)\n",
        "model.eval()\n",
        "test_pred = []\n",
        "with torch.no_grad():\n",
        "    for batch in test_loader:\n",
        "        batch_X = batch[0].cuda()\n",
        "        outputs = model(batch_X)\n",
        "        test_pred.extend(outputs.cpu().numpy())  # 예측값을 CPU로 이동하여 리스트에 추가\n",
        "\n",
        "test_pred = np.array(test_pred).flatten()\n",
        "submission_df = pd.read_csv(submission_csv_path)\n",
        "submission_df['y'] = test_pred  # 예측 결과를 y 컬럼에 추가\n",
        "\n",
        "# 지정된 경로에 CSV 파일로 저장\n",
        "submission_df.to_csv(\"/content/drive/MyDrive/Colab Notebooks/contest/samsung/result/MLP_Residual_Connection_1.csv\", index=False)"
      ],
      "metadata": {
        "id": "m_p_gLYlFOS9"
      },
      "execution_count": null,
      "outputs": []
    },
    {
      "cell_type": "code",
      "source": [
        "submission_df.describe()"
      ],
      "metadata": {
        "id": "HoPTR-BYFP6t"
      },
      "execution_count": null,
      "outputs": []
    },
    {
      "cell_type": "code",
      "source": [
        "def find_non_matching_ids(file1, file2):\n",
        "    # 두 개의 CSV 파일을 읽어옴\n",
        "    df1 = pd.read_csv(file1)\n",
        "    df2 = pd.read_csv(file2)\n",
        "\n",
        "    # y 값 기준으로 내림차순 정렬\n",
        "    df1_sorted = df1.sort_values(by='y', ascending=False)\n",
        "    df2_sorted = df2.sort_values(by='y', ascending=False)\n",
        "\n",
        "    # file1의 상위 10% 항목 계산\n",
        "    top_10_percent_count = int(len(df1_sorted) * 0.1)\n",
        "    top_10_percent_ids_df1 = set(df1_sorted.head(top_10_percent_count)['ID'])\n",
        "\n",
        "    # file2의 상위 10% ID 추출\n",
        "    top_10_percent_ids_df2 = set(df2_sorted.head(top_10_percent_count)['ID'])\n",
        "\n",
        "    # file1의 상위 10% 중 file2의 상위 10%에 없는 ID 계산\n",
        "    non_matching_ids = top_10_percent_ids_df1 - top_10_percent_ids_df2\n",
        "    num_non_matching = len(non_matching_ids)\n",
        "\n",
        "    # 결과 출력\n",
        "    print(f\"file1의 상위 10% 항목 개수: {top_10_percent_count}\")\n",
        "    print(f\"file1의 상위 10% 중 file2에 없는 항목 개수: {num_non_matching}\")\n",
        "    print(f\"file1의 상위 10% 중 file2에 없는 항목 ID: {non_matching_ids}\")\n",
        "\n",
        "    return top_10_percent_count, num_non_matching, list(non_matching_ids)\n",
        "\n",
        "# 사용 예시\n",
        "file1 ='/content/drive/MyDrive/Colab Notebooks/contest/samsung/MLP5_PReLU(0.752).csv' # best 성능 파일\n",
        "file2 = '/content/drive/MyDrive/Colab Notebooks/contest/samsung/MLP_Residual_Connection_18.csv'\n",
        "file3 = '/content/drive/MyDrive/Colab Notebooks/contest/samsung/result/MLP_Residual_Connection_1.csv' # 측정하고자 하는 파일\n",
        "top_10_percent_count, num_non_matching, non_matching_ids = find_non_matching_ids(file1, file3)\n",
        "top_10_percent_count, num_non_matching, non_matching_ids = find_non_matching_ids(file2, file3)"
      ],
      "metadata": {
        "id": "eZNKdZVkFSU7"
      },
      "execution_count": null,
      "outputs": []
    },
    {
      "cell_type": "code",
      "source": [],
      "metadata": {
        "id": "F5K64efPqdRe"
      },
      "execution_count": null,
      "outputs": []
    }
  ]
}