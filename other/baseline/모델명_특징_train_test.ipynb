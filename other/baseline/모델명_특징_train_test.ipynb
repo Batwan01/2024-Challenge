{
 "cells": [
  {
   "cell_type": "markdown",
   "metadata": {},
   "source": [
    "## 모델명_특징_train_test 파일\n",
    "---\n",
    "\n",
    "1. 최대한 조작 없이 바로 실행하면 되도록 만들기 \n",
    "(파라미터 같은 것도 최대한 조작 x Run All 로 가능하게) \n",
    "\n",
    "2. 조작이 필요한 코드일 시 방법 적어주기\n",
    "(ex. data path 같은 건 각자 조작이 필요할 때 등등)\n",
    "\n",
    "3. 훈련 및 테스트가 끝난 모델은 모델 파라미터 저장해두기\n",
    "```python\n",
    "        torch.save(model.state_dict(), '모델명_특징_param.pth')\n",
    "```\n",
    "4. 테스트로 제출파일 만들어주기 (모델명_특징_성능.csv)\n",
    "\n",
    "5. 훈련 및 테스트 끝나면 detail 기록하기 (성능, 사용한 method, 모델 하이퍼파라미터 등)"
   ]
  }
 ],
 "metadata": {
  "language_info": {
   "name": "python"
  }
 },
 "nbformat": 4,
 "nbformat_minor": 2
}
