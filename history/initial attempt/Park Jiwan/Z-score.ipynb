{
  "nbformat": 4,
  "nbformat_minor": 0,
  "metadata": {
    "colab": {
      "provenance": []
    },
    "kernelspec": {
      "name": "python3",
      "display_name": "Python 3"
    },
    "language_info": {
      "name": "python"
    }
  },
  "cells": [
    {
      "cell_type": "code",
      "source": [
        "from google.colab import drive\n",
        "drive.mount('/content/drive')"
      ],
      "metadata": {
        "colab": {
          "base_uri": "https://localhost:8080/"
        },
        "id": "JjWlShimjKm-",
        "outputId": "fb60c15c-29da-46df-9873-d71f3458db19"
      },
      "execution_count": 1,
      "outputs": [
        {
          "output_type": "stream",
          "name": "stdout",
          "text": [
            "Mounted at /content/drive\n"
          ]
        }
      ]
    },
    {
      "cell_type": "code",
      "source": [
        "from google.colab import drive\n",
        "drive.mount('/content/drive')\n",
        "\n",
        "import numpy as np\n",
        "import pandas as pd\n",
        "import lightgbm as lgb\n",
        "from sklearn.model_selection import KFold, GridSearchCV\n",
        "from sklearn.metrics import mean_squared_error\n",
        "from scipy.stats import zscore\n",
        "\n",
        "# 파일 경로 설정\n",
        "train_path = '/content/drive/MyDrive/Colab Notebooks/contest/samsung/train.csv'\n",
        "test_path = '/content/drive/MyDrive/Colab Notebooks/contest/samsung/test.csv'\n",
        "\n",
        "# 데이터 불러오기\n",
        "train_df = pd.read_csv(train_path)\n",
        "test_df = pd.read_csv(test_path)\n",
        "\n",
        "# 특징 변수(X)와 목표 변수(y) 분리\n",
        "X_train = train_df.drop(columns=['ID', 'y'])\n",
        "y_train = train_df['y']\n",
        "\n",
        "X_test = test_df.drop(columns=['ID'])\n",
        "\n",
        "# Z-score를 사용하여 이상치 제거\n",
        "z_scores = np.abs(zscore(X_train))\n",
        "threshold = 3  # 일반적으로 Z-score가 3을 넘는 값을 이상치로 간주\n",
        "filtered_entries = (z_scores < threshold).all(axis=1)\n",
        "\n",
        "# 이상치가 제거된 데이터셋\n",
        "X_train_filtered = X_train[filtered_entries]\n",
        "y_train_filtered = y_train[filtered_entries]\n",
        "\n",
        "# 하이퍼파라미터 그리드 설정\n",
        "param_grid = {\n",
        "    'num_leaves': [31, 61, 91],\n",
        "    'learning_rate': [0.001, 0.01, 0.05],\n",
        "    'n_estimators': [100, 500, 1000],\n",
        "    'max_depth': [-1, 10, 20]\n",
        "}\n",
        "\n",
        "# K-Fold 교차 검증 설정\n",
        "kf = KFold(n_splits=5, shuffle=True, random_state=42)\n",
        "\n",
        "# GridSearchCV 설정\n",
        "grid_search = GridSearchCV(\n",
        "    estimator=lgb.LGBMRegressor(boosting_type='gbdt'),\n",
        "    param_grid=param_grid,\n",
        "    cv=kf,\n",
        "    scoring='neg_root_mean_squared_error',\n",
        "    verbose=1,\n",
        "    n_jobs=-1\n",
        ")\n",
        "\n",
        "# 이상치 제거된 데이터로 모델 훈련\n",
        "grid_search.fit(X_train_filtered, y_train_filtered)\n",
        "\n",
        "# 최적의 파라미터 확인\n",
        "print(f\"Best parameters: {grid_search.best_params_}\")\n",
        "\n",
        "# 최적의 파라미터로 모델 재훈련\n",
        "best_model = grid_search.best_estimator_\n",
        "\n",
        "# 전체 훈련 데이터에 대한 예측 및 성능 평가\n",
        "train_pred = best_model.predict(X_train_filtered)\n",
        "rmse = mean_squared_error(y_train_filtered, train_pred, squared=False)\n",
        "print(f'Training RMSE: {rmse}')\n",
        "\n",
        "# 테스트 데이터에 대한 예측 수행\n",
        "y_pred = best_model.predict(X_test)\n",
        "\n",
        "# 상위 33% 임계값 식별\n",
        "threshold = np.percentile(y_pred, 67)\n",
        "top_33_percent_mask = y_pred >= threshold\n",
        "\n",
        "# 상위 33% 임계값과 샘플 수 출력\n",
        "print(f\"Top 33% threshold: {threshold:.4f}\")\n",
        "print(f\"Number of samples in top 33%: {sum(top_33_percent_mask)}\")\n",
        "\n",
        "# ID와 예측된 y 값만을 포함한 데이터프레임 생성\n",
        "predictions_df = test_df[['ID']].copy()\n",
        "predictions_df['y_pred'] = y_pred\n",
        "\n",
        "# 예측 결과 저장\n",
        "output_path = '/content/drive/MyDrive/Colab Notebooks/contest/samsung/result_Z-score.csv'\n",
        "predictions_df.to_csv(output_path, index=False)\n",
        "print(f'Predictions saved to {output_path}')\n"
      ],
      "metadata": {
        "colab": {
          "base_uri": "https://localhost:8080/"
        },
        "id": "j-e6tz3tjKBh",
        "outputId": "b5a8d33d-e7e0-4fd5-ca50-2f1856bfd30e"
      },
      "execution_count": null,
      "outputs": [
        {
          "output_type": "stream",
          "name": "stdout",
          "text": [
            "Drive already mounted at /content/drive; to attempt to forcibly remount, call drive.mount(\"/content/drive\", force_remount=True).\n",
            "Fitting 5 folds for each of 81 candidates, totalling 405 fits\n"
          ]
        }
      ]
    }
  ]
}