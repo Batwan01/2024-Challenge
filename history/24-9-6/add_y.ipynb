{
 "cells": [
  {
   "cell_type": "code",
   "execution_count": 2,
   "metadata": {},
   "outputs": [],
   "source": [
    "import pandas as pd\n",
    "import numpy as np"
   ]
  },
  {
   "cell_type": "code",
   "execution_count": 9,
   "metadata": {},
   "outputs": [],
   "source": [
    "y1 = pd.read_csv(\"/Users/imch/Downloads/drop8.csv\")\n",
    "\n",
    "\n",
    "y2 = pd.read_csv(\"/Users/imch/Downloads/MLP_Residual_drop_8,9.csv\")\n",
    "\n",
    "y3 = pd.read_csv(\"/Users/imch/Downloads/MLP_Residual_drop_10.csv\")\n",
    "\n",
    "\n",
    "y4 = pd.read_csv(\"/Users/imch/Downloads/drop_6.csv\")\n",
    "\n",
    "y1 = y1.iloc[:,1]\n",
    "y2 = y2.iloc[:,1]\n",
    "y3 = y3.iloc[:,1]\n",
    "y4 = y4.iloc[:,1]\n",
    "# y5 = pd.read_csv(\"/Users/imch/Downloads/MLP_Residual_Connection_0905.csv\")\n",
    "\n",
    "\n",
    "# y6 = pd.read_csv(\"/Users/imch/Downloads/MLP_Residual_Connection_hidden_size_1 (1).csv\")\n",
    "\n",
    "# y7 = pd.read_csv(\"/Users/imch/Downloads/MLP_Residual_Connection_x_1^2.csv\")\n"
   ]
  },
  {
   "cell_type": "code",
   "execution_count": 5,
   "metadata": {},
   "outputs": [
    {
     "name": "stdout",
     "output_type": "stream",
     "text": [
      "모든 Series가 서로 다릅니다.\n"
     ]
    }
   ],
   "source": [
    "import pandas as pd\n",
    "\n",
    "# Series 데이터를 리스트로 묶음\n",
    "series_list = [y1, y2, y3,y4]\n",
    "\n",
    "# 완전히 동일한 Series가 있는지 여부를 추적\n",
    "all_different = True\n",
    "\n",
    "# 이중 반복문으로 모든 Series를 서로 비교\n",
    "for i in range(len(series_list)):\n",
    "    for j in range(i + 1, len(series_list)):\n",
    "        if series_list[i].equals(series_list[j]):\n",
    "            print(f\"Series {i+1}와 Series {j+1}는 완전히 동일합니다.\")\n",
    "            all_different = False\n",
    "\n",
    "# 결과 출력\n",
    "if all_different:\n",
    "    print(\"모든 Series가 서로 다릅니다.\")\n",
    "else:\n",
    "    print(\"서로 완전히 동일한 Series가 있습니다.\")"
   ]
  },
  {
   "cell_type": "code",
   "execution_count": 10,
   "metadata": {},
   "outputs": [
    {
     "data": {
      "text/plain": [
       "0    83.698190\n",
       "1    81.987970\n",
       "2    90.543120\n",
       "3    90.964836\n",
       "4    82.236115\n",
       "Name: y, dtype: float64"
      ]
     },
     "execution_count": 10,
     "metadata": {},
     "output_type": "execute_result"
    }
   ],
   "source": [
    "y1.shape\n",
    "y1.head()"
   ]
  },
  {
   "cell_type": "code",
   "execution_count": 11,
   "metadata": {},
   "outputs": [
    {
     "name": "stdout",
     "output_type": "stream",
     "text": [
      "0       84.152361\n",
      "1       82.322320\n",
      "2       91.049605\n",
      "3       91.554419\n",
      "4       82.635949\n",
      "          ...    \n",
      "4981    83.782128\n",
      "4982    91.881158\n",
      "4983    83.128619\n",
      "4984    83.439600\n",
      "4985    82.789445\n",
      "Name: y, Length: 4986, dtype: float64\n"
     ]
    }
   ],
   "source": [
    "test_pred = (y1+y2+y3+y4)/4\n",
    "print(test_pred)"
   ]
  },
  {
   "cell_type": "code",
   "execution_count": 12,
   "metadata": {},
   "outputs": [],
   "source": [
    "test_pred = np.array(test_pred).flatten()\n",
    "submission_df = pd.read_csv(\"/Users/imch/workspace/projects/dacon/2024-Challenge/other/data/sample_submission.csv\")\n",
    "submission_df['y'] = test_pred  # 예측 결과를 y 컬럼에 추가\n",
    "\n",
    "# 지정된 경로에 CSV 파일로 저장\n",
    "submission_df.to_csv(\"sum2.csv\", index=False)"
   ]
  },
  {
   "cell_type": "code",
   "execution_count": 13,
   "metadata": {},
   "outputs": [
    {
     "ename": "TypeError",
     "evalue": "sort_values() got an unexpected keyword argument 'by'",
     "output_type": "error",
     "traceback": [
      "\u001b[0;31m---------------------------------------------------------------------------\u001b[0m",
      "\u001b[0;31mTypeError\u001b[0m                                 Traceback (most recent call last)",
      "Cell \u001b[0;32mIn[13], line 35\u001b[0m\n\u001b[1;32m     32\u001b[0m y_all \u001b[38;5;241m=\u001b[39m [y1, y2, y3, y4]\n\u001b[1;32m     33\u001b[0m \u001b[38;5;28;01mfor\u001b[39;00m i \u001b[38;5;129;01min\u001b[39;00m y_all:\n\u001b[0;32m---> 35\u001b[0m     top_10_percent_count, num_non_matching, non_matching_ids \u001b[38;5;241m=\u001b[39m \u001b[43mfind_non_matching_ids\u001b[49m\u001b[43m(\u001b[49m\u001b[43mi\u001b[49m\u001b[43m,\u001b[49m\u001b[43m \u001b[49m\u001b[43mfile3\u001b[49m\u001b[43m)\u001b[49m\n\u001b[1;32m     36\u001b[0m     arr \u001b[38;5;241m=\u001b[39m \u001b[38;5;28mlist\u001b[39m(non_matching_ids)\n\u001b[1;32m     37\u001b[0m     \u001b[38;5;66;03m# 확인하고자 하는 ID 리스트\u001b[39;00m\n",
      "Cell \u001b[0;32mIn[13], line 7\u001b[0m, in \u001b[0;36mfind_non_matching_ids\u001b[0;34m(df1, file2)\u001b[0m\n\u001b[1;32m      4\u001b[0m df2 \u001b[38;5;241m=\u001b[39m pd\u001b[38;5;241m.\u001b[39mread_csv(file2)\n\u001b[1;32m      6\u001b[0m \u001b[38;5;66;03m# y 값 기준으로 내림차순 정렬\u001b[39;00m\n\u001b[0;32m----> 7\u001b[0m df1_sorted \u001b[38;5;241m=\u001b[39m \u001b[43mdf1\u001b[49m\u001b[38;5;241;43m.\u001b[39;49m\u001b[43msort_values\u001b[49m\u001b[43m(\u001b[49m\u001b[43mby\u001b[49m\u001b[38;5;241;43m=\u001b[39;49m\u001b[38;5;124;43m'\u001b[39;49m\u001b[38;5;124;43my\u001b[39;49m\u001b[38;5;124;43m'\u001b[39;49m\u001b[43m,\u001b[49m\u001b[43m \u001b[49m\u001b[43mascending\u001b[49m\u001b[38;5;241;43m=\u001b[39;49m\u001b[38;5;28;43;01mFalse\u001b[39;49;00m\u001b[43m)\u001b[49m\n\u001b[1;32m      8\u001b[0m df2_sorted \u001b[38;5;241m=\u001b[39m df2\u001b[38;5;241m.\u001b[39msort_values(by\u001b[38;5;241m=\u001b[39m\u001b[38;5;124m'\u001b[39m\u001b[38;5;124my\u001b[39m\u001b[38;5;124m'\u001b[39m, ascending\u001b[38;5;241m=\u001b[39m\u001b[38;5;28;01mFalse\u001b[39;00m)\n\u001b[1;32m     10\u001b[0m \u001b[38;5;66;03m# file1의 상위 10% 항목 계산\u001b[39;00m\n",
      "\u001b[0;31mTypeError\u001b[0m: sort_values() got an unexpected keyword argument 'by'"
     ]
    }
   ],
   "source": [
    "def find_non_matching_ids(df1, file2):\n",
    "    # 두 개의 CSV 파일을 읽어옴\n",
    "    \n",
    "    df2 = pd.read_csv(file2)\n",
    "\n",
    "    # y 값 기준으로 내림차순 정렬\n",
    "    df1_sorted = df1.sort_values(by='y', ascending=False)\n",
    "    df2_sorted = df2.sort_values(by='y', ascending=False)\n",
    "\n",
    "    # file1의 상위 10% 항목 계산\n",
    "    top_10_percent_count = int(len(df1_sorted) * 0.1)\n",
    "    top_10_percent_ids_df1 = set(df1_sorted.head(top_10_percent_count)['ID'])\n",
    "\n",
    "    # file2의 상위 10% ID 추출\n",
    "    top_10_percent_ids_df2 = set(df2_sorted.head(top_10_percent_count)['ID'])\n",
    "\n",
    "    # file1의 상위 10% 중 file2의 상위 10%에 없는 ID 계산\n",
    "    non_matching_ids = top_10_percent_ids_df1 - top_10_percent_ids_df2\n",
    "    num_non_matching = len(non_matching_ids)\n",
    "\n",
    "    # 결과 출력\n",
    "    print(f\"file1의 상위 10% 항목 개수: {top_10_percent_count}\")\n",
    "    print(f\"file1의 상위 10% 중 file2에 없는 항목 개수: {num_non_matching}\")\n",
    "    print(f\"file1의 상위 10% 중 file2에 없는 항목 ID: {non_matching_ids}\")\n",
    "\n",
    "    return top_10_percent_count, num_non_matching, list(non_matching_ids)\n",
    "\n",
    "# 사용 예시\n",
    "file1 ='MLP_Residual_Connection_drop_x2_x6.csv' # best 성능 파일\n",
    "file2 = 'MLP_Residual_Connection_hidden_size_1.csv'\n",
    "file3 = '/Users/imch/workspace/projects/dacon/2024-Challenge/history/24-9-6/sum2.csv' # 측정하고자 하는 파일\n",
    "y_all = [y1, y2, y3, y4]\n",
    "for i in y_all:\n",
    "\n",
    "    top_10_percent_count, num_non_matching, non_matching_ids = find_non_matching_ids(i, file3)\n",
    "    arr = list(non_matching_ids)\n",
    "    # 확인하고자 하는 ID 리스트\n",
    "    ids_to_check = ['TEST_3536', 'TEST_1574', 'TEST_3731', 'TEST_1780', 'TEST_1746', 'TEST_3287', 'TEST_1429', 'TEST_1731']\n",
    "    ids_to_check_false = ['TEST_1377', 'TEST_2035', 'TEST_3042', 'TEST_4949', 'TEST_4578', 'TEST_4707', 'TEST_2538', 'TEST_1909']\n",
    "    # non_matching_ids에 있는지 확인\n",
    "    matching_ids_T = [id_ for id_ in ids_to_check if id_ in arr]\n",
    "    matching_ids_F = [id_ for id_ in ids_to_check_false if id_ in arr]\n",
    "    # 결과 출력\n",
    "    print(\"정답 예측\")\n",
    "    print(f\"다음 ID들이 non_matching_ids에 있습니다: {matching_ids_T}\")\n",
    "    print(f\"non_matching_ids에서 확인된 ID 개수: {len(matching_ids_T)}\")\n",
    "    print(\"---\"*15)\n",
    "\n",
    "    # 결과 출력\n",
    "    print(\"오답 예측\")\n",
    "    print(f\"다음 ID들이 non_matching_ids에 있습니다: {matching_ids_F}\")\n",
    "    print(f\"non_matching_ids에서 확인된 ID 개수: {len(matching_ids_F)}\")\n",
    "    print(\"---\"*15)\n"
   ]
  },
  {
   "cell_type": "code",
   "execution_count": null,
   "metadata": {},
   "outputs": [],
   "source": [
    "arr = list(non_matching_ids)\n",
    "# 확인하고자 하는 ID 리스트\n",
    "ids_to_check = ['TEST_3536', 'TEST_1574', 'TEST_3731', 'TEST_1780', 'TEST_1746', 'TEST_3287', 'TEST_1429', 'TEST_1731']\n",
    "ids_to_check_false = ['TEST_1377', 'TEST_2035', 'TEST_3042', 'TEST_4949', 'TEST_4578', 'TEST_4707', 'TEST_2538', 'TEST_1909']\n",
    "# non_matching_ids에 있는지 확인\n",
    "matching_ids_T = [id_ for id_ in ids_to_check if id_ in arr]\n",
    "matching_ids_F = [id_ for id_ in ids_to_check_false if id_ in arr]\n",
    "# 결과 출력\n",
    "print(\"정답 예측\")\n",
    "print(f\"다음 ID들이 non_matching_ids에 있습니다: {matching_ids_T}\")\n",
    "print(f\"non_matching_ids에서 확인된 ID 개수: {len(matching_ids_T)}\")\n",
    "\n",
    "# 결과 출력\n",
    "print(\"오답 예측\")\n",
    "print(f\"다음 ID들이 non_matching_ids에 있습니다: {matching_ids_F}\")\n",
    "print(f\"non_matching_ids에서 확인된 ID 개수: {len(matching_ids_F)}\")"
   ]
  }
 ],
 "metadata": {
  "kernelspec": {
   "display_name": "leem",
   "language": "python",
   "name": "python3"
  },
  "language_info": {
   "codemirror_mode": {
    "name": "ipython",
    "version": 3
   },
   "file_extension": ".py",
   "mimetype": "text/x-python",
   "name": "python",
   "nbconvert_exporter": "python",
   "pygments_lexer": "ipython3",
   "version": "3.8.18"
  }
 },
 "nbformat": 4,
 "nbformat_minor": 2
}
