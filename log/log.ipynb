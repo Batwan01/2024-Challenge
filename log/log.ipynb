{
 "cells": [
  {
   "cell_type": "code",
   "execution_count": 6,
   "metadata": {},
   "outputs": [],
   "source": [
    "import pandas as pd\n",
    "\n",
    "def find_non_matching_ids(file1, file2):\n",
    "    # 두 개의 CSV 파일을 읽어옴\n",
    "    df1 = pd.read_csv(file1)\n",
    "    df2 = pd.read_csv(file2)\n",
    "\n",
    "    # y 값 기준으로 내림차순 정렬\n",
    "    df1_sorted = df1.sort_values(by='y', ascending=False)\n",
    "    df2_sorted = df2.sort_values(by='y', ascending=False)\n",
    "\n",
    "    # file1의 상위 10% 항목 계산\n",
    "    top_10_percent_count = int(len(df1_sorted) * 0.1)\n",
    "    top_10_percent_ids_df1 = set(df1_sorted.head(top_10_percent_count)['ID'])\n",
    "\n",
    "    # file2의 상위 10% ID 추출\n",
    "    top_10_percent_ids_df2 = set(df2_sorted.head(top_10_percent_count)['ID'])\n",
    "\n",
    "    # file1의 상위 10% 중 file2의 상위 10%에 없는 ID 계산\n",
    "    non_matching_ids = top_10_percent_ids_df1 - top_10_percent_ids_df2\n",
    "    num_non_matching = len(non_matching_ids)\n",
    "\n",
    "    # 결과 출력\n",
    "    print(f\"file1의 상위 10% ID 개수: {top_10_percent_count}\")\n",
    "    print(f\"일치하는 ID 개수: {top_10_percent_count-num_non_matching}\")\n",
    "    print(f\"file1의 상위 10% 중 file2에 없는 ID 개수: {num_non_matching}\")\n",
    "    print(f\"file1의 상위 10% 중 file2에 없는 ID: {non_matching_ids}\")\n",
    "\n",
    "    return top_10_percent_count, num_non_matching, list(non_matching_ids)\n"
   ]
  },
  {
   "cell_type": "code",
   "execution_count": 15,
   "metadata": {},
   "outputs": [],
   "source": [
    "ids = []"
   ]
  },
  {
   "cell_type": "code",
   "execution_count": 13,
   "metadata": {},
   "outputs": [],
   "source": [
    "# 현재 best 모델 (기준 모델)\n",
    "'''\n",
    "MLP5_PReLU\n",
    "Method : 활성화 함수 ReLU 사용\n",
    "\n",
    "epoch = 93\n",
    "lr = 0.001 \n",
    "batch = 32\n",
    "\n",
    "hidden_size = [32, 64, 64, 32, 16]\n",
    "'''\n",
    "\n",
    "best_csv = \"./csv/MLP5_PReLU.csv\""
   ]
  },
  {
   "cell_type": "code",
   "execution_count": 16,
   "metadata": {},
   "outputs": [
    {
     "name": "stdout",
     "output_type": "stream",
     "text": [
      "file1의 상위 10% ID 개수: 498\n",
      "일치하는 ID 개수: 488\n",
      "file1의 상위 10% 중 file2에 없는 ID 개수: 10\n",
      "file1의 상위 10% 중 file2에 없는 ID: {'TEST_4881', 'TEST_1502', 'TEST_4472', 'TEST_0665', 'TEST_2426', 'TEST_1309', 'TEST_0347', 'TEST_0935', 'TEST_4705', 'TEST_3811'}\n"
     ]
    }
   ],
   "source": [
    "# 기준 모델\n",
    "'''\n",
    "MLP5_744\n",
    "Method : 활성화 함수 ReLU 사용\n",
    "\n",
    "epoch = 93\n",
    "lr = 0.001 \n",
    "batch = 32\n",
    "\n",
    "hidden_size = [32, 64, 64, 32, 16]\n",
    "'''\n",
    "mlp5_744 = \"./csv/MLP5_PReLU_epoch100.csv\"\n",
    "_, _, mlp5_744_id = find_non_matching_ids(best_csv, mlp5_744)\n",
    "ids.append(mlp5_744_id)"
   ]
  },
  {
   "cell_type": "code",
   "execution_count": 17,
   "metadata": {},
   "outputs": [
    {
     "data": {
      "text/plain": [
       "[['TEST_4881',\n",
       "  'TEST_1502',\n",
       "  'TEST_4472',\n",
       "  'TEST_0665',\n",
       "  'TEST_2426',\n",
       "  'TEST_1309',\n",
       "  'TEST_0347',\n",
       "  'TEST_0935',\n",
       "  'TEST_4705',\n",
       "  'TEST_3811']]"
      ]
     },
     "execution_count": 17,
     "metadata": {},
     "output_type": "execute_result"
    }
   ],
   "source": [
    "ids"
   ]
  }
 ],
 "metadata": {
  "kernelspec": {
   "display_name": "leem",
   "language": "python",
   "name": "python3"
  },
  "language_info": {
   "codemirror_mode": {
    "name": "ipython",
    "version": 3
   },
   "file_extension": ".py",
   "mimetype": "text/x-python",
   "name": "python",
   "nbconvert_exporter": "python",
   "pygments_lexer": "ipython3",
   "version": "3.8.18"
  }
 },
 "nbformat": 4,
 "nbformat_minor": 2
}
